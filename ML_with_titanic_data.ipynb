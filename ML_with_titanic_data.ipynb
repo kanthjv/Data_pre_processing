{
  "nbformat": 4,
  "nbformat_minor": 0,
  "metadata": {
    "colab": {
      "name": "ML_with_titanic_data.ipynb",
      "provenance": [],
      "collapsed_sections": []
    },
    "kernelspec": {
      "display_name": "Python 3",
      "language": "python",
      "name": "python3"
    },
    "language_info": {
      "codemirror_mode": {
        "name": "ipython",
        "version": 3
      },
      "file_extension": ".py",
      "mimetype": "text/x-python",
      "name": "python",
      "nbconvert_exporter": "python",
      "pygments_lexer": "ipython3",
      "version": "3.7.6"
    }
  },
  "cells": [
    {
      "cell_type": "markdown",
      "metadata": {
        "_cell_guid": "4d1a4534-dc37-4536-8973-50a0f9027b67",
        "_uuid": "1b9b3f16dca00ef7fbcd940b4a169d8ccbe5adc7",
        "collapsed": true,
        "id": "-OrBRfrGURKc"
      },
      "source": [
        "This tutorial is aimed at beginners, especially those who are both new to machine learning/data science as well as python. \n",
        "\n",
        "In this tutorial I would walk you through the process of building a predictive model, namely a decision tree. \n",
        "\n",
        "The pipeline consists of several steps:\n",
        "1. Exploratory Data Analysis (EDA) - understanding the data and the underlying interactions between the different variables\n",
        "2. Data Pre-processing - preparing the data for modelling\n",
        "3. Building the model\n",
        "4. Evaluating the performance of the model, and possibly fine-tune and tweak it if necessary\n",
        "\n",
        "The goal of the model is to predict whether a passenger survived the Titanic disaster, given their age, class and a few other features.\n",
        "\n",
        "Almost every line of code would be explained, so those who are more familiar with python (and especially with the numpy and pandas libraries) are welcome to skip the first parts"
      ]
    },
    {
      "cell_type": "markdown",
      "metadata": {
        "_cell_guid": "5947836b-5cfc-49d2-bef3-901e9777e4bf",
        "_uuid": "d9b13d276c84df6ba7fc79b6a8ccf54e31d5b456",
        "id": "vBLQM98aURKe"
      },
      "source": [
        "# Loading Libraries\n",
        "Not all python capabilities are loaded to your working environment by default (even if they exist and are installed on your computer), Therefore, we would need to import every library we are going to use. numpy and pandas are probably the most commonly used libraries. \n",
        "\n",
        "Numpy is requried whenever calculations are required (calculating means, medians, sqaure root, etc.).\n",
        "pandas is a great module for data processing and data frames. \n",
        "\n",
        "We can choose alias names to our modules for the sake of convenience (numpy --> np, pandas --> pd)"
      ]
    },
    {
      "cell_type": "code",
      "metadata": {
        "_cell_guid": "ef7fab81-4f99-4d2d-b9fb-18b056865432",
        "_uuid": "771840a8c53d43ca662e633ab4421cbee035e75c",
        "id": "iWsGI9C0URKg"
      },
      "source": [
        "import numpy as np # linear algebra\n",
        "import pandas as pd # data processing, CSV file I/O (e.g. pd.read_csv)"
      ],
      "execution_count": null,
      "outputs": []
    },
    {
      "cell_type": "markdown",
      "metadata": {
        "_cell_guid": "a9bcd144-73c4-4e19-ad9b-ad82f90d44d3",
        "_uuid": "63109d31e43047e42ee70a915e339a157d5b54db",
        "id": "wijZ0f8HURKu"
      },
      "source": [
        "# Loading the data\n",
        "We would use the pandas module to read the files. using the \"read_csv\" function. the files format is.csv (similar to .xls)\n",
        "\n",
        "In the round brackets we have the path to where the data is saves i.e on Github"
      ]
    },
    {
      "cell_type": "code",
      "metadata": {
        "_cell_guid": "57f44795-ca82-4e01-9595-7387851a6bce",
        "_uuid": "0c6d1e0ab1f4c92dfe988b4f5167c7a168cf8874",
        "id": "GFecgnp-URKv"
      },
      "source": [
        "titanic = pd.read_csv('https://raw.githubusercontent.com/dphi-official/First_ML_Model/master/titanic.csv')      "
      ],
      "execution_count": null,
      "outputs": []
    },
    {
      "cell_type": "markdown",
      "metadata": {
        "_cell_guid": "0f85042b-370b-49ce-91e6-3af5a0f9f8db",
        "_uuid": "f2fefc8bc69d48f313e9b32f6ae664df0717e61d",
        "id": "2sVNpOZZURK3"
      },
      "source": [
        "Now, let's examine our dataframe:"
      ]
    },
    {
      "cell_type": "code",
      "metadata": {
        "_cell_guid": "309ef627-5cf8-4061-ae28-6c4e31c9177b",
        "_uuid": "72401960ad124e524810776d963b8163adcf8750",
        "colab": {
          "base_uri": "https://localhost:8080/",
          "height": 204
        },
        "id": "CHCzDCW0URK4",
        "outputId": "03495212-dcb6-41e0-eae7-ef399186d042"
      },
      "source": [
        "titanic.head()"
      ],
      "execution_count": null,
      "outputs": [
        {
          "output_type": "execute_result",
          "data": {
            "text/html": [
              "<div>\n",
              "<style scoped>\n",
              "    .dataframe tbody tr th:only-of-type {\n",
              "        vertical-align: middle;\n",
              "    }\n",
              "\n",
              "    .dataframe tbody tr th {\n",
              "        vertical-align: top;\n",
              "    }\n",
              "\n",
              "    .dataframe thead th {\n",
              "        text-align: right;\n",
              "    }\n",
              "</style>\n",
              "<table border=\"1\" class=\"dataframe\">\n",
              "  <thead>\n",
              "    <tr style=\"text-align: right;\">\n",
              "      <th></th>\n",
              "      <th>PassengerId</th>\n",
              "      <th>Survived</th>\n",
              "      <th>Pclass</th>\n",
              "      <th>Name</th>\n",
              "      <th>Sex</th>\n",
              "      <th>Age</th>\n",
              "      <th>SibSp</th>\n",
              "      <th>Parch</th>\n",
              "      <th>Ticket</th>\n",
              "      <th>Fare</th>\n",
              "      <th>Cabin</th>\n",
              "      <th>Embarked</th>\n",
              "    </tr>\n",
              "  </thead>\n",
              "  <tbody>\n",
              "    <tr>\n",
              "      <th>0</th>\n",
              "      <td>1</td>\n",
              "      <td>0</td>\n",
              "      <td>3</td>\n",
              "      <td>Braund, Mr. Owen Harris</td>\n",
              "      <td>male</td>\n",
              "      <td>22.0</td>\n",
              "      <td>1</td>\n",
              "      <td>0</td>\n",
              "      <td>A/5 21171</td>\n",
              "      <td>7.2500</td>\n",
              "      <td>NaN</td>\n",
              "      <td>S</td>\n",
              "    </tr>\n",
              "    <tr>\n",
              "      <th>1</th>\n",
              "      <td>2</td>\n",
              "      <td>1</td>\n",
              "      <td>1</td>\n",
              "      <td>Cumings, Mrs. John Bradley (Florence Briggs Th...</td>\n",
              "      <td>female</td>\n",
              "      <td>38.0</td>\n",
              "      <td>1</td>\n",
              "      <td>0</td>\n",
              "      <td>PC 17599</td>\n",
              "      <td>71.2833</td>\n",
              "      <td>C85</td>\n",
              "      <td>C</td>\n",
              "    </tr>\n",
              "    <tr>\n",
              "      <th>2</th>\n",
              "      <td>3</td>\n",
              "      <td>1</td>\n",
              "      <td>3</td>\n",
              "      <td>Heikkinen, Miss. Laina</td>\n",
              "      <td>female</td>\n",
              "      <td>26.0</td>\n",
              "      <td>0</td>\n",
              "      <td>0</td>\n",
              "      <td>STON/O2. 3101282</td>\n",
              "      <td>7.9250</td>\n",
              "      <td>NaN</td>\n",
              "      <td>S</td>\n",
              "    </tr>\n",
              "    <tr>\n",
              "      <th>3</th>\n",
              "      <td>4</td>\n",
              "      <td>1</td>\n",
              "      <td>1</td>\n",
              "      <td>Futrelle, Mrs. Jacques Heath (Lily May Peel)</td>\n",
              "      <td>female</td>\n",
              "      <td>35.0</td>\n",
              "      <td>1</td>\n",
              "      <td>0</td>\n",
              "      <td>113803</td>\n",
              "      <td>53.1000</td>\n",
              "      <td>C123</td>\n",
              "      <td>S</td>\n",
              "    </tr>\n",
              "    <tr>\n",
              "      <th>4</th>\n",
              "      <td>5</td>\n",
              "      <td>0</td>\n",
              "      <td>3</td>\n",
              "      <td>Allen, Mr. William Henry</td>\n",
              "      <td>male</td>\n",
              "      <td>35.0</td>\n",
              "      <td>0</td>\n",
              "      <td>0</td>\n",
              "      <td>373450</td>\n",
              "      <td>8.0500</td>\n",
              "      <td>NaN</td>\n",
              "      <td>S</td>\n",
              "    </tr>\n",
              "  </tbody>\n",
              "</table>\n",
              "</div>"
            ],
            "text/plain": [
              "   PassengerId  Survived  Pclass  \\\n",
              "0            1         0       3   \n",
              "1            2         1       1   \n",
              "2            3         1       3   \n",
              "3            4         1       1   \n",
              "4            5         0       3   \n",
              "\n",
              "                                                Name     Sex   Age  SibSp  \\\n",
              "0                            Braund, Mr. Owen Harris    male  22.0      1   \n",
              "1  Cumings, Mrs. John Bradley (Florence Briggs Th...  female  38.0      1   \n",
              "2                             Heikkinen, Miss. Laina  female  26.0      0   \n",
              "3       Futrelle, Mrs. Jacques Heath (Lily May Peel)  female  35.0      1   \n",
              "4                           Allen, Mr. William Henry    male  35.0      0   \n",
              "\n",
              "   Parch            Ticket     Fare Cabin Embarked  \n",
              "0      0         A/5 21171   7.2500   NaN        S  \n",
              "1      0          PC 17599  71.2833   C85        C  \n",
              "2      0  STON/O2. 3101282   7.9250   NaN        S  \n",
              "3      0            113803  53.1000  C123        S  \n",
              "4      0            373450   8.0500   NaN        S  "
            ]
          },
          "metadata": {
            "tags": []
          },
          "execution_count": 3
        }
      ]
    },
    {
      "cell_type": "markdown",
      "metadata": {
        "_cell_guid": "43003af4-572e-4348-acc1-d2fe29dedf62",
        "_uuid": "8319fd89c6621ee694f1b96cd58f54d5a3b80b15",
        "id": "DL175E-sURLe"
      },
      "source": [
        "The \"head\" function displays the first 5 rows of the data frame. \n",
        "\n",
        "Let us explore the columns: \n",
        "* PassengerId - this is a just a generated Id\n",
        "* Pclass - which class did the passenger ride - first, second or third\n",
        "* Name - self explanatory\n",
        "* Sex - male or female\n",
        "* Age\n",
        "* SibSp - were the passenger's spouse or siblings  with them on the ship\n",
        "* Parch -  were the passenger's parents or children  with them on the ship\n",
        "* Ticket - ticket number\n",
        "* Fare - ticker price\n",
        "* Cabin\n",
        "* Embarked - port of embarkation\n",
        "* Survived - did the passenger  survive the sinking of the Titanic?\n",
        "\n",
        "**Note:** The whole goal is building a model that would predict the survival probability of a person, given their basic features."
      ]
    },
    {
      "cell_type": "markdown",
      "metadata": {
        "_cell_guid": "4cb2c715-0606-42eb-b553-e4f2296c4d46",
        "_uuid": "f11432f93e9a5787096309ff7b34f2367e8e1496",
        "id": "0LGNCngKURLf"
      },
      "source": [
        "# Exploratory Data Analysis (EDA)\n",
        "\n",
        "After loading the data, let us examine it. It is usually not recommended to throw all the data into a predictive model without first understanding the data. this would often help us improving our model."
      ]
    },
    {
      "cell_type": "code",
      "metadata": {
        "_cell_guid": "57e577a7-086d-48d8-be24-4dde7f974502",
        "_uuid": "9a0684a71ec848553d15d25f3a47e883cbfcb227",
        "colab": {
          "base_uri": "https://localhost:8080/",
          "height": 51
        },
        "id": "_Yqcsdh7URLg",
        "outputId": "f7857422-4816-4d9d-e54b-4768dfae855b"
      },
      "source": [
        "print('Total number of passangers in the training data...', len(titanic))\n",
        "print('Number of passangers in the training data who survived...', len(titanic[titanic['Survived'] == 1]))"
      ],
      "execution_count": null,
      "outputs": [
        {
          "output_type": "stream",
          "text": [
            "Total number of passangers in the training data... 891\n",
            "Number of passangers in the training data who survived... 342\n"
          ],
          "name": "stdout"
        }
      ]
    },
    {
      "cell_type": "markdown",
      "metadata": {
        "_cell_guid": "83033174-61d4-491f-a0e4-7cba203af975",
        "_uuid": "f7f1d663c50d06e9221e8d98921fcc906ebd7fec",
        "id": "NdJ7-FxSURLl"
      },
      "source": [
        "The \"len\" function gives the length of whatever is the input, in that case our train data frame.\n",
        "\n",
        "We can access a specific column in a data frame by specifying its name in square brackets. we can also filter the values we are interested in with a condition.\n",
        "\n",
        "So the second line in the above cell should be understood as following:\n",
        "\"give me the length of the train data frame, if we only count the rows where the value of the \"Survived\" column id 1\"\n",
        "or, simply - \"give me the number of people (rows) who survived (\"survived = 1\")\n",
        "\n",
        "When we want to use the \"equals\" symbol in the context of a comparison\\condition statement, we use \"==\" instead of \"=\""
      ]
    },
    {
      "cell_type": "markdown",
      "metadata": {
        "_cell_guid": "9007bd3b-a06f-474c-8503-46de42f1f890",
        "_uuid": "ed93f8e8d6a2ee152eaf9bce3d11e4dd3633db03",
        "id": "5H5XKeMYURLm"
      },
      "source": [
        "Now, similarly, let's see what is the % of men and women who survived, and then by the same token with class and age:"
      ]
    },
    {
      "cell_type": "code",
      "metadata": {
        "_cell_guid": "d4349b9b-1d67-4870-be83-4e34dc81ea4f",
        "_uuid": "e3f18a91533f4795d604060d9c1107be7c903f06",
        "colab": {
          "base_uri": "https://localhost:8080/",
          "height": 51
        },
        "id": "MtbEjdLUURLo",
        "outputId": "286b0cae-c369-41ac-dbfc-0be240dbc696"
      },
      "source": [
        "print('% of men who survived', 100*np.mean(titanic['Survived'][titanic['Sex'] == 'male']))\n",
        "print('% of women who survived', 100*np.mean(titanic['Survived'][titanic['Sex'] == 'female']))"
      ],
      "execution_count": null,
      "outputs": [
        {
          "output_type": "stream",
          "text": [
            "% of men who survived 18.890814558058924\n",
            "% of women who survived 74.20382165605095\n"
          ],
          "name": "stdout"
        }
      ]
    },
    {
      "cell_type": "markdown",
      "metadata": {
        "_cell_guid": "fbf36afb-56a4-4f75-b12b-9fbf604f3ca8",
        "_uuid": "c91730bf52d86da39f669683ef59ad360d066692",
        "id": "KChLIdYmURLs"
      },
      "source": [
        "Here we first use the numpy module, namely the \"mean\" function\".\n",
        "Let's try to understand the logics of the first line:\n",
        "* from left to right -   \"print 100 multiplied by the mean of the \"survived\" column but only where the sex is \"male\" \"\n",
        "* might be easier from right to left: \"let us only look at rows where the sex is \"male\", now from this reduced data frame let us only regard the \"survived\" column. let's take the mean of the column vales. and multiply by 100\""
      ]
    },
    {
      "cell_type": "code",
      "metadata": {
        "_cell_guid": "0c44e371-eff7-4b01-b4bb-f4f0b9a834f6",
        "_uuid": "02f78a6c36eb6c4da68cc13c6278acfbe4b19fff",
        "colab": {
          "base_uri": "https://localhost:8080/",
          "height": 51
        },
        "id": "fgUS7Kc_URLt",
        "outputId": "20f21837-ec8e-4cdb-c552-f35cc89b0aa7"
      },
      "source": [
        "print('% of passengers who survived in first class', 100*np.mean(titanic['Survived'][titanic['Pclass'] == 1]))\n",
        "print('% of passengers who survived in third class', 100*np.mean(titanic['Survived'][titanic['Pclass'] == 3]))"
      ],
      "execution_count": null,
      "outputs": [
        {
          "output_type": "stream",
          "text": [
            "% of passengers who survived in first class 62.96296296296296\n",
            "% of passengers who survived in third class 24.236252545824847\n"
          ],
          "name": "stdout"
        }
      ]
    },
    {
      "cell_type": "code",
      "metadata": {
        "_cell_guid": "66c3b5b7-da10-49b2-8df0-a266313d4f5b",
        "_uuid": "4236cbe05e133e94f81c9753400b4818024797ea",
        "colab": {
          "base_uri": "https://localhost:8080/",
          "height": 51
        },
        "id": "OKnVoFPRURLx",
        "outputId": "07b8b736-6168-4e4b-e341-503c93bfcbf4"
      },
      "source": [
        "print('% of children who survived', 100*np.mean(titanic['Survived'][titanic['Age'] < 18]))\n",
        "print('% of adults who survived', 100*np.mean(titanic['Survived'][titanic['Age'] > 18]))"
      ],
      "execution_count": null,
      "outputs": [
        {
          "output_type": "stream",
          "text": [
            "% of children who survived 53.98230088495575\n",
            "% of adults who survived 38.26086956521739\n"
          ],
          "name": "stdout"
        }
      ]
    },
    {
      "cell_type": "markdown",
      "metadata": {
        "_cell_guid": "1169b96a-5841-403f-998a-97550fec2533",
        "_uuid": "abedf7ec2812025e0e62105310939e7b808df396",
        "id": "tPVsbM3cURL1"
      },
      "source": [
        "As we can see, at least in terms of survival statistics, the \"Titanic\" movie (spoiler alert) was an accurate representation of reality"
      ]
    },
    {
      "cell_type": "markdown",
      "metadata": {
        "_cell_guid": "7df8c85b-e614-421f-9916-a8236d6ff60c",
        "_uuid": "991bfb4cd15db40a40ecc7f23dd4a5718563568d",
        "id": "QYpOVKkDURL2"
      },
      "source": [
        "# Data Pre-processing\n",
        "## Non numeric features to numeric\n",
        "\n",
        "We are going to use a decision tree model. The model requires only numeric values, but one of our features is categorical: \"female\" or \"male\". this can easily be fixed by encoding this feature: \"male\" = 1, \"female\" = 0"
      ]
    },
    {
      "cell_type": "code",
      "metadata": {
        "_cell_guid": "01cb9a3f-1a02-49ba-a4f8-922f49a5e8f3",
        "_uuid": "95a641fca86977b2965e3519d7aabc794b09b72b",
        "id": "Ry2C8CswURL2",
        "outputId": "a1df457c-358f-4770-c842-9317f1c4b627"
      },
      "source": [
        "titanic['Sex'] = titanic['Sex'].apply(lambda x: 1 if x == 'male' else 0)\n",
        "\n"
      ],
      "execution_count": null,
      "outputs": [
        {
          "output_type": "execute_result",
          "data": {
            "text/plain": [
              "\"\\nUnderstanding lambda functtion:\\nThe lambda function above is same as the user defined function below:\\n\\ndef fun(x):\\n    if x == 'male':\\n        return 1\\n    else:\\n    return 0\\n    \\n- x is the argument in both user defined function and lambda function (i.e. def func(x): is same as lambda x:)\\n- if x == 'male':\\n    return 1\\n    \\n    of user defined function is same as\\n    \\n    1 if x == 'male' of lambda function\\n    \\n    The only difference here is - in lambda function the first return statement is placed before the condition and no 'return'\\n    keyword is used.\\n    \\n- After if statement the else part is similar in both cases the only difference is no 'return' keyword used.\\n[return keyword is not used in lambda function][lambda function is used only for small set of statements]\\n\\nA youtube video on lambda function: https://www.youtube.com/watch?v=hYzwCsKGRrg\\n\\n\""
            ]
          },
          "metadata": {
            "tags": []
          },
          "execution_count": 8
        }
      ]
    },
    {
      "cell_type": "markdown",
      "metadata": {
        "_cell_guid": "0fff96d9-878a-4665-8ee2-e239828849f0",
        "_uuid": "98fab53c6fb07de6e0a3b0ec7544889e7791c9bb",
        "id": "nRvfePehURL6"
      },
      "source": [
        "The \"apply\" means \"do that for each value in the column\". the statement in the brackets should be read as following :\"for every value in the column (\"lambda x:\") if it's a male then replace with 1, otherwise replace with 0"
      ]
    },
    {
      "cell_type": "markdown",
      "metadata": {
        "_cell_guid": "96d224c1-072e-4622-bc86-32be35bdab84",
        "_uuid": "948dc51e6937347b06cc4ac38c91376990cfc6e6",
        "id": "kjRBTidEURL7"
      },
      "source": [
        "## Missing Values\n",
        "Another common problem which has to be addressed is missing values. We can simply delete rows with missing values, but usually we would 'want to take advantage of as many data points as possible. Replacing missing values with zeros would not be a good idea - as age 0 or price 0 have actual meanings and that would change our data.\n",
        "\n",
        "Therefore a good replacement value would be something that doesn't affect the data too much, such as the median or mean. the \"fillna\" function replaces every NaN (not a number) entry with the given input (the mean of the column in our case):"
      ]
    },
    {
      "cell_type": "code",
      "metadata": {
        "id": "KtR_4aHL-lb_",
        "outputId": "2b79786b-420f-488a-93cd-07e0e640b23d"
      },
      "source": [
        "titanic.isnull().sum()"
      ],
      "execution_count": null,
      "outputs": [
        {
          "output_type": "execute_result",
          "data": {
            "text/plain": [
              "PassengerId      0\n",
              "Survived         0\n",
              "Pclass           0\n",
              "Name             0\n",
              "Sex              0\n",
              "Age            177\n",
              "SibSp            0\n",
              "Parch            0\n",
              "Ticket           0\n",
              "Fare             0\n",
              "Cabin          687\n",
              "Embarked         2\n",
              "dtype: int64"
            ]
          },
          "metadata": {
            "tags": []
          },
          "execution_count": 9
        }
      ]
    },
    {
      "cell_type": "code",
      "metadata": {
        "_cell_guid": "0f385258-9f0e-49d7-b1dd-1cbfe21b9e26",
        "_uuid": "73940633ac23734e029fabdaced15a2929e5d215",
        "id": "ta_o3HxPURL8"
      },
      "source": [
        "titanic['Age'] = titanic['Age'].fillna(np.mean(titanic['Age']))"
      ],
      "execution_count": null,
      "outputs": []
    },
    {
      "cell_type": "code",
      "metadata": {
        "id": "1Fr3qLHO-lcA",
        "outputId": "6a90b693-0bba-4f59-e68f-38c525017228"
      },
      "source": [
        "# Looking at frequency of each values in 'Embarked'\n",
        "titanic.Embarked.value_counts()"
      ],
      "execution_count": null,
      "outputs": [
        {
          "output_type": "execute_result",
          "data": {
            "text/plain": [
              "S    644\n",
              "C    168\n",
              "Q     77\n",
              "Name: Embarked, dtype: int64"
            ]
          },
          "metadata": {
            "tags": []
          },
          "execution_count": 11
        }
      ]
    },
    {
      "cell_type": "markdown",
      "metadata": {
        "id": "IjGn6wDs-lcA"
      },
      "source": [
        "Filling missing values of a categorical variable with mode. The below mentioned mentioned code is not an ideal way\n",
        "to fill missing values of categorical, we shall explain best practices in future sessions!"
      ]
    },
    {
      "cell_type": "code",
      "metadata": {
        "id": "fmpwEn1S-lcA"
      },
      "source": [
        "# We can use fillna() function to fill the missing values as discussed in the pandas session / notebook.\n",
        "titanic.Embarked.fillna(value='S', axis = 0, inplace = True) #rowwise input\n"
      ],
      "execution_count": null,
      "outputs": []
    },
    {
      "cell_type": "code",
      "metadata": {
        "id": "-VDBzxuh-lcB",
        "outputId": "4864969f-577a-4986-d245-9fe8710e4be6"
      },
      "source": [
        "titanic.isnull().sum()"
      ],
      "execution_count": null,
      "outputs": [
        {
          "output_type": "execute_result",
          "data": {
            "text/plain": [
              "PassengerId      0\n",
              "Survived         0\n",
              "Pclass           0\n",
              "Name             0\n",
              "Sex              0\n",
              "Age              0\n",
              "SibSp            0\n",
              "Parch            0\n",
              "Ticket           0\n",
              "Fare             0\n",
              "Cabin          687\n",
              "Embarked         0\n",
              "dtype: int64"
            ]
          },
          "metadata": {
            "tags": []
          },
          "execution_count": 13
        }
      ]
    },
    {
      "cell_type": "markdown",
      "metadata": {
        "_cell_guid": "d997e088-dad3-42cd-90b4-a75168ce172e",
        "_uuid": "47dab29235a85fffc0b5b12084ef3b93d11e934c",
        "id": "3Xh59YuqURMA"
      },
      "source": [
        "## Omit irrelevant columns\n",
        "Let us only take the columns we find relevant. ID columns are never relevant (or at least should not be, if the data was sampled randomly). As our model is very simple, let us also omit the Ticket number, Cabin, ID and Name although more sophisticated models can definitely take advantage of them"
      ]
    },
    {
      "cell_type": "code",
      "metadata": {
        "_cell_guid": "834704b8-6ab6-4dcd-af37-6c488cddbcbb",
        "_uuid": "036f0f134f69c3324a2fc3d2cad92abd22689ed5",
        "id": "RSAB6pyhURMA"
      },
      "source": [
        "titanic = titanic[['Survived', 'Pclass', 'Sex', 'Age', 'SibSp', 'Parch', 'Fare']]"
      ],
      "execution_count": null,
      "outputs": []
    },
    {
      "cell_type": "markdown",
      "metadata": {
        "_cell_guid": "8d4fc080-d028-48cb-801b-a994f740b69e",
        "_uuid": "2686da3bb9d127a63abc241d6575bcc1b7d9f0ee",
        "id": "EF0Qw3OPURME"
      },
      "source": [
        "## Separating input variables (X) and target variable (y)\n",
        "Y has the labels, our answers column. X is all the rest of the data - the features, without the labels (The survived column). This sepration would hoepfully be clearer in a few cells"
      ]
    },
    {
      "cell_type": "code",
      "metadata": {
        "_cell_guid": "94d20915-240a-42f1-9326-d47e0ddd1641",
        "_uuid": "577bccd13d936e4efbf9aa6b744d6b56a73fc35b",
        "id": "Er9E_NgnURMF"
      },
      "source": [
        "X = titanic.drop('Survived', axis = 1)\n",
        "y = titanic['Survived']"
      ],
      "execution_count": null,
      "outputs": []
    },
    {
      "cell_type": "markdown",
      "metadata": {
        "_cell_guid": "b6e39357-af7d-43e7-8111-3eff852cd61c",
        "_uuid": "63593682627a3861c6f1a8c056ea949e1f53b14b",
        "id": "fYtyOrd-URMK"
      },
      "source": [
        "As explained above, X now has the train data without the \"Survived\" column (this is acheived with the \"drop\" function). Y, on the other hand, has only the \"Survived\" column."
      ]
    },
    {
      "cell_type": "markdown",
      "metadata": {
        "_cell_guid": "053286f6-8e2c-4238-9690-7db3471caec4",
        "_uuid": "e7b53cc7fccbe98ed6673fe1643116daa74cb486",
        "id": "Ns3dWPYUURML"
      },
      "source": [
        "# Train and Test Split\n",
        "\n",
        "We have our training data, and we have our test data. but in order to evaluate our model we need to split the training dataset into a train dataset and an evaluation dataset (validation). The validation data would be used to evaluate the model, while the training data would be used to train the data. \n",
        "\n",
        "To do that, we can use the function \"train_test_split\" from the sklearn module. the sklean module is probably the most commonly used library in most simple machine learning tasks (this does not include deep learning where other libraries can be more popular)"
      ]
    },
    {
      "cell_type": "code",
      "metadata": {
        "id": "dn7S9acM-lcD",
        "outputId": "517be024-2ae0-457e-c171-803a39395410"
      },
      "source": [
        "!pip install sklearn"
      ],
      "execution_count": null,
      "outputs": [
        {
          "output_type": "stream",
          "text": [
            "Requirement already satisfied: sklearn in c:\\users\\chanukya\\anaconda3\\lib\\site-packages (0.0)\n",
            "Requirement already satisfied: scikit-learn in c:\\users\\chanukya\\anaconda3\\lib\\site-packages (from sklearn) (0.22.1)\n",
            "Requirement already satisfied: scipy>=0.17.0 in c:\\users\\chanukya\\anaconda3\\lib\\site-packages (from scikit-learn->sklearn) (1.4.1)\n",
            "Requirement already satisfied: numpy>=1.11.0 in c:\\users\\chanukya\\anaconda3\\lib\\site-packages (from scikit-learn->sklearn) (1.18.1)\n",
            "Requirement already satisfied: joblib>=0.11 in c:\\users\\chanukya\\anaconda3\\lib\\site-packages (from scikit-learn->sklearn) (0.14.1)\n"
          ],
          "name": "stdout"
        }
      ]
    },
    {
      "cell_type": "code",
      "metadata": {
        "_cell_guid": "ac03adee-9bdf-49ee-a248-0fa13ccd7dd2",
        "_uuid": "f2f9fbda9a72c354f36dd792b0839b2f428ed6c7",
        "id": "EU6clulxURMM"
      },
      "source": [
        "from sklearn.model_selection import train_test_split\n",
        "X_train, X_test, y_train, y_test = train_test_split(X, y, test_size=0.33, random_state=42)"
      ],
      "execution_count": null,
      "outputs": []
    },
    {
      "cell_type": "markdown",
      "metadata": {
        "_cell_guid": "bc719fe3-3b5f-476e-bdca-6441810fb4ac",
        "_uuid": "cc39ee250eff5dccacbbb765f5c30950ee96bd4c",
        "id": "lSM8rC1NURMR"
      },
      "source": [
        "## Building ML Model\n",
        "Now we are finally ready, and we can train the model.\n",
        "\n",
        "First, we need to import our model - A decision tree classifier (again, using the sklearn library).\n",
        "\n",
        "Then we would feed the model both with the data (X_train) and the answers for that data (y_train)"
      ]
    },
    {
      "cell_type": "code",
      "metadata": {
        "_cell_guid": "06268f0c-2305-44b7-99a1-15eed66fa237",
        "_uuid": "b419cbe623724fe86da1ff85df016982dae245eb",
        "colab": {
          "base_uri": "https://localhost:8080/",
          "height": 119
        },
        "id": "v3jmucB5URMS",
        "outputId": "27167820-ec8d-4b5a-e5b9-b488fc271e2c"
      },
      "source": [
        "from sklearn.tree import DecisionTreeClassifier\n",
        "model = DecisionTreeClassifier()\n",
        "model.fit(X_train, y_train)"
      ],
      "execution_count": null,
      "outputs": [
        {
          "output_type": "execute_result",
          "data": {
            "text/plain": [
              "DecisionTreeClassifier(ccp_alpha=0.0, class_weight=None, criterion='gini',\n",
              "                       max_depth=None, max_features=None, max_leaf_nodes=None,\n",
              "                       min_impurity_decrease=0.0, min_impurity_split=None,\n",
              "                       min_samples_leaf=1, min_samples_split=2,\n",
              "                       min_weight_fraction_leaf=0.0, presort='deprecated',\n",
              "                       random_state=None, splitter='best')"
            ]
          },
          "metadata": {
            "tags": []
          },
          "execution_count": 18
        }
      ]
    },
    {
      "cell_type": "markdown",
      "metadata": {
        "_cell_guid": "e780a67c-5033-4a78-a1a6-be14ee031271",
        "_uuid": "ce09fa783a379952f5eb6ca9d9b3e2850ea6ee01",
        "id": "0jquUG30URMX"
      },
      "source": [
        "The training happens in the third line (the \"fit\" function). During the training, the algorithm is trying to build the optimal decision tree. The way it works is very similar to the game \"21 Questions\". In the game we always start with general questions that give the best partition of the data (\"is the character you are thinking of a male? are them alive?\" etc.). It tries to acheive the best score on the training data - that is, building a model that would predict the survival outcome of as many passengers as possible. "
      ]
    },
    {
      "cell_type": "markdown",
      "metadata": {
        "_cell_guid": "76e24a80-f193-4608-b5f7-17d4c7b75978",
        "_uuid": "2e6c62ac07211ae6c35f0c53bb0fb055baf5620e",
        "id": "CLT2AQj3URMX"
      },
      "source": [
        "## Evaluate the model"
      ]
    },
    {
      "cell_type": "markdown",
      "metadata": {
        "_cell_guid": "672995f2-2213-4c8c-8c53-aefbb3635a8d",
        "_uuid": "fbc2a8d277e24b0dcf41828804805ecc911645d5",
        "id": "5eg4hreYURMY"
      },
      "source": [
        "Now we have a model. Let's evaulate it with using the accuracy_score function. This output of the function is the number of right answers (passengers survival/death was predicted correctly) divided by the total number of passengers "
      ]
    },
    {
      "cell_type": "code",
      "metadata": {
        "id": "h7dyDsaq-lcF",
        "outputId": "f3748789-2b22-403a-f1e8-255da09babd4"
      },
      "source": [
        "!pip install graphviz"
      ],
      "execution_count": null,
      "outputs": [
        {
          "output_type": "stream",
          "text": [
            "Requirement already satisfied: graphviz in c:\\users\\chanukya\\anaconda3\\lib\\site-packages (0.14)\n"
          ],
          "name": "stdout"
        }
      ]
    },
    {
      "cell_type": "code",
      "metadata": {
        "_cell_guid": "3a444611-070d-43d5-ab4e-67d883eee932",
        "_uuid": "dc7ada4a264300beb9c847df2af2691288b423f3",
        "colab": {
          "base_uri": "https://localhost:8080/",
          "height": 51
        },
        "id": "lpriWPY-URMZ",
        "outputId": "4760b625-3685-4310-b4d5-5cfa91b8b698"
      },
      "source": [
        "from sklearn.metrics import accuracy_score\n",
        "print('Training accuracy...', accuracy_score(y_train, model.predict(X_train)))\n",
        "print('Test accuracy', accuracy_score(y_test, model.predict(X_test)))"
      ],
      "execution_count": null,
      "outputs": [
        {
          "output_type": "stream",
          "text": [
            "Training accuracy... 0.9798657718120806\n",
            "Test accuracy 0.752542372881356\n"
          ],
          "name": "stdout"
        }
      ]
    },
    {
      "cell_type": "markdown",
      "metadata": {
        "_cell_guid": "d4ddf0d2-5821-444a-952a-7625c7073d47",
        "_uuid": "22f9924113204b10a04cef929da3869fc792a037",
        "id": "isg-TZ2zURMd"
      },
      "source": [
        "The accuracy function compares between the actual results (our ground truth - y_train or y_test) with the prediction of the model (given by \"classifier.predict(X_train)\" or \"classifier.predict(X_test)\" respectrively."
      ]
    },
    {
      "cell_type": "markdown",
      "metadata": {
        "_cell_guid": "aaed3efc-701f-4356-98fd-8f5bc16b5fa9",
        "_uuid": "bccc9b6063252dd80f10cd46c5d3dc566b449513",
        "id": "nQaQhGnsURMd"
      },
      "source": [
        "The large difference between the training score and the validation score suggets that our model **overfits**. That is, instead of leraning general rules that can be applied on unseen data, it does something that is more similar to memorize the training data. So our model performs really well on the training data (98% accuracy) but not remotely as well on the validation data.\n",
        "\n",
        "It is clear once we plot the tree. the next bulk of code would not be explained and can be regarded as a useful magic that plots decision trees."
      ]
    },
    {
      "cell_type": "code",
      "metadata": {
        "id": "wDzsQddK-lcG"
      },
      "source": [
        "from sklearn.tree import export_graphviz\n",
        "import graphviz"
      ],
      "execution_count": null,
      "outputs": []
    },
    {
      "cell_type": "markdown",
      "metadata": {
        "id": "9IRtJQfW-lcG"
      },
      "source": [
        "**There might be issues with graphviz. If you don't get the decision tree, please the following command on anaconda prompt\n",
        "'conda install python-graphviz'\n",
        "Once you run the command the issue should be sorted.**\n",
        "\n",
        "**For colab users, it shouldn't be an issue though.**"
      ]
    },
    {
      "cell_type": "code",
      "metadata": {
        "id": "QgctxRbs-lcG"
      },
      "source": [
        "dot_data= export_graphviz(model, out_file=None, \n",
        "                    feature_names=X_test.columns,  \n",
        "                      class_names=['0', '1'],  \n",
        "                      filled=True, rounded=True,  \n",
        "                      special_characters=True) "
      ],
      "execution_count": null,
      "outputs": []
    },
    {
      "cell_type": "code",
      "metadata": {
        "id": "rtx3sBPh-lcH"
      },
      "source": [
        "graph1=graphviz.Source(dot_data)"
      ],
      "execution_count": null,
      "outputs": []
    },
    {
      "cell_type": "code",
      "metadata": {
        "id": "5xsePqRv-lcH"
      },
      "source": [
        "graph1"
      ],
      "execution_count": null,
      "outputs": []
    },
    {
      "cell_type": "code",
      "metadata": {
        "id": "DrIlNUMj-lcH"
      },
      "source": [
        ""
      ],
      "execution_count": null,
      "outputs": []
    },
    {
      "cell_type": "markdown",
      "metadata": {
        "_cell_guid": "3f10368a-1215-4630-8568-6bb923fa552d",
        "_uuid": "d19b0b949aa14da0a8048f61a2f4bfa065ebcb93",
        "id": "oS6Us7mdURMj"
      },
      "source": [
        "This is a very complex model, and if you zoom in you would see that in many leaves we have only 1 sample. this means that the model learned many complex rules to memorize the survival or death of each passenger in the training data. \n",
        "\n",
        "Let's take Mr. Owen Harris\t(the first row of the training data),  having such a complex model is similar to having a rule that says that if a passenger is in class 3, and is a male, and his age is more than 21, and his age is less than 23, and his fare is more than 7, and his fare is less than 8, and he has a sibling/spouse on board with him but no parents/children, then he would not survive. But this is obviously a rule that was tailor made to Mr Harris, and is equivalent to simply saying \"Mr Harris did not survive\", a rule that cannot be generalized to new unseen passengers who are not Mr Harris."
      ]
    },
    {
      "cell_type": "markdown",
      "metadata": {
        "_cell_guid": "544c0c07-a9f7-4ae1-b791-bddd8da914f7",
        "_uuid": "837348554bf67756e1ec44909d9dc9e9c7a05da6",
        "id": "-TICPH0rURMk"
      },
      "source": [
        "## Improve the model\n",
        "We can reduce overfitting by limiting the number of \"questions\" that the model is allowed to ask. as each node in the tree is a question, by limiting the depth of the tree we can limit the number of questions. So let us again create an instance of a decision tree, but this one cannot produce trees deeper than 3 (3 questions):"
      ]
    },
    {
      "cell_type": "code",
      "metadata": {
        "_cell_guid": "74b0b499-fa8a-4e7e-946b-917d94f67662",
        "_uuid": "0dab58e1a011dba69fe134ffa913e77f35fe0694",
        "colab": {
          "base_uri": "https://localhost:8080/",
          "height": 119
        },
        "id": "L9R6caKlURMl",
        "outputId": "aa9d699a-384e-4988-8b52-bf16cfd7fdf4"
      },
      "source": [
        "model_improved = DecisionTreeClassifier(max_depth = 3)\n",
        "model_improved.fit(X_train, y_train)"
      ],
      "execution_count": null,
      "outputs": [
        {
          "output_type": "execute_result",
          "data": {
            "text/plain": [
              "DecisionTreeClassifier(ccp_alpha=0.0, class_weight=None, criterion='gini',\n",
              "                       max_depth=3, max_features=None, max_leaf_nodes=None,\n",
              "                       min_impurity_decrease=0.0, min_impurity_split=None,\n",
              "                       min_samples_leaf=1, min_samples_split=2,\n",
              "                       min_weight_fraction_leaf=0.0, presort='deprecated',\n",
              "                       random_state=None, splitter='best')"
            ]
          },
          "metadata": {
            "tags": []
          },
          "execution_count": 33
        }
      ]
    },
    {
      "cell_type": "code",
      "metadata": {
        "_cell_guid": "0ac6a11d-ac2b-429c-8458-5eb3a81bcdb5",
        "_uuid": "c9815fca98372719f96c6deb3bb61afb1aefd0d3",
        "colab": {
          "base_uri": "https://localhost:8080/",
          "height": 51
        },
        "id": "BoDHSUX6URMp",
        "outputId": "ca62e014-2af9-4f87-f6f4-7e1c7cbddc6f"
      },
      "source": [
        "print('train score...' , accuracy_score(y_train, model_improved.predict(X_train)))\n",
        "print('test score...', accuracy_score(y_test, model_improved.predict(X_test)))"
      ],
      "execution_count": null,
      "outputs": [
        {
          "output_type": "stream",
          "text": [
            "train score... 0.8238255033557047\n",
            "test score... 0.8203389830508474\n"
          ],
          "name": "stdout"
        }
      ]
    },
    {
      "cell_type": "markdown",
      "metadata": {
        "_cell_guid": "b9cbd950-63b1-4fec-b0e7-4cb3efaf1dc6",
        "_uuid": "7ac4d60a2f513a2d52e053cf9955afe2576cd06a",
        "id": "pzB3RipEURMv"
      },
      "source": [
        "We can see that while the train score went down, the test score has improved and it is now almost as high as the train score. This means that the model does not overfit as badly anymore. 82% accuracy with such a simple model is quite impressive in my opinion. \n",
        "\n",
        "Let's visualize the tree again using the same code snippet from above:"
      ]
    },
    {
      "cell_type": "code",
      "metadata": {
        "id": "YUUOfJMl-lcJ"
      },
      "source": [
        "dot_data= export_graphviz(model_improved, out_file=None,impurity=False, \n",
        "                    feature_names=X_test.columns,  \n",
        "                      class_names=['0', '1'],  \n",
        "                      filled=True, rounded=True) "
      ],
      "execution_count": null,
      "outputs": []
    },
    {
      "cell_type": "code",
      "metadata": {
        "id": "TTdPYmg1-lcJ"
      },
      "source": [
        "graph2=graphviz.Source(dot_data)"
      ],
      "execution_count": null,
      "outputs": []
    },
    {
      "cell_type": "code",
      "metadata": {
        "id": "iFY-Ej_Q-lcJ",
        "outputId": "1df35619-43c5-42d5-bf01-deec0b470702"
      },
      "source": [
        "graph2"
      ],
      "execution_count": null,
      "outputs": [
        {
          "output_type": "execute_result",
          "data": {
            "image/svg+xml": "<?xml version=\"1.0\" encoding=\"UTF-8\" standalone=\"no\"?>\r\n<!DOCTYPE svg PUBLIC \"-//W3C//DTD SVG 1.1//EN\"\r\n \"http://www.w3.org/Graphics/SVG/1.1/DTD/svg11.dtd\">\r\n<!-- Generated by graphviz version 2.38.0 (20140413.2041)\r\n -->\r\n<!-- Title: Tree Pages: 1 -->\r\n<svg width=\"992pt\" height=\"373pt\"\r\n viewBox=\"0.00 0.00 992.00 373.00\" xmlns=\"http://www.w3.org/2000/svg\" xmlns:xlink=\"http://www.w3.org/1999/xlink\">\r\n<g id=\"graph0\" class=\"graph\" transform=\"scale(1 1) rotate(0) translate(4 369)\">\r\n<title>Tree</title>\r\n<polygon fill=\"white\" stroke=\"none\" points=\"-4,4 -4,-369 988,-369 988,4 -4,4\"/>\r\n<!-- 0 -->\r\n<g id=\"node1\" class=\"node\"><title>0</title>\r\n<path fill=\"#f4ccaf\" stroke=\"black\" d=\"M531.5,-365C531.5,-365 425.5,-365 425.5,-365 419.5,-365 413.5,-359 413.5,-353 413.5,-353 413.5,-309 413.5,-309 413.5,-303 419.5,-297 425.5,-297 425.5,-297 531.5,-297 531.5,-297 537.5,-297 543.5,-303 543.5,-309 543.5,-309 543.5,-353 543.5,-353 543.5,-359 537.5,-365 531.5,-365\"/>\r\n<text text-anchor=\"middle\" x=\"478.5\" y=\"-349.8\" font-family=\"Helvetica,sans-Serif\" font-size=\"14.00\">Sex &lt;= 0.5</text>\r\n<text text-anchor=\"middle\" x=\"478.5\" y=\"-334.8\" font-family=\"Helvetica,sans-Serif\" font-size=\"14.00\">samples = 596</text>\r\n<text text-anchor=\"middle\" x=\"478.5\" y=\"-319.8\" font-family=\"Helvetica,sans-Serif\" font-size=\"14.00\">value = [374, 222]</text>\r\n<text text-anchor=\"middle\" x=\"478.5\" y=\"-304.8\" font-family=\"Helvetica,sans-Serif\" font-size=\"14.00\">class = 0</text>\r\n</g>\r\n<!-- 1 -->\r\n<g id=\"node2\" class=\"node\"><title>1</title>\r\n<path fill=\"#85c2ef\" stroke=\"black\" d=\"M404.5,-261C404.5,-261 306.5,-261 306.5,-261 300.5,-261 294.5,-255 294.5,-249 294.5,-249 294.5,-205 294.5,-205 294.5,-199 300.5,-193 306.5,-193 306.5,-193 404.5,-193 404.5,-193 410.5,-193 416.5,-199 416.5,-205 416.5,-205 416.5,-249 416.5,-249 416.5,-255 410.5,-261 404.5,-261\"/>\r\n<text text-anchor=\"middle\" x=\"355.5\" y=\"-245.8\" font-family=\"Helvetica,sans-Serif\" font-size=\"14.00\">Pclass &lt;= 2.5</text>\r\n<text text-anchor=\"middle\" x=\"355.5\" y=\"-230.8\" font-family=\"Helvetica,sans-Serif\" font-size=\"14.00\">samples = 206</text>\r\n<text text-anchor=\"middle\" x=\"355.5\" y=\"-215.8\" font-family=\"Helvetica,sans-Serif\" font-size=\"14.00\">value = [57, 149]</text>\r\n<text text-anchor=\"middle\" x=\"355.5\" y=\"-200.8\" font-family=\"Helvetica,sans-Serif\" font-size=\"14.00\">class = 1</text>\r\n</g>\r\n<!-- 0&#45;&gt;1 -->\r\n<g id=\"edge1\" class=\"edge\"><title>0&#45;&gt;1</title>\r\n<path fill=\"none\" stroke=\"black\" d=\"M438.565,-296.884C427.395,-287.62 415.137,-277.455 403.549,-267.845\"/>\r\n<polygon fill=\"black\" stroke=\"black\" points=\"405.587,-264.989 395.655,-261.299 401.119,-270.377 405.587,-264.989\"/>\r\n<text text-anchor=\"middle\" x=\"397.978\" y=\"-282.491\" font-family=\"Helvetica,sans-Serif\" font-size=\"14.00\">True</text>\r\n</g>\r\n<!-- 8 -->\r\n<g id=\"node9\" class=\"node\"><title>8</title>\r\n<path fill=\"#eb9e67\" stroke=\"black\" d=\"M652.5,-261C652.5,-261 554.5,-261 554.5,-261 548.5,-261 542.5,-255 542.5,-249 542.5,-249 542.5,-205 542.5,-205 542.5,-199 548.5,-193 554.5,-193 554.5,-193 652.5,-193 652.5,-193 658.5,-193 664.5,-199 664.5,-205 664.5,-205 664.5,-249 664.5,-249 664.5,-255 658.5,-261 652.5,-261\"/>\r\n<text text-anchor=\"middle\" x=\"603.5\" y=\"-245.8\" font-family=\"Helvetica,sans-Serif\" font-size=\"14.00\">Age &lt;= 3.5</text>\r\n<text text-anchor=\"middle\" x=\"603.5\" y=\"-230.8\" font-family=\"Helvetica,sans-Serif\" font-size=\"14.00\">samples = 390</text>\r\n<text text-anchor=\"middle\" x=\"603.5\" y=\"-215.8\" font-family=\"Helvetica,sans-Serif\" font-size=\"14.00\">value = [317, 73]</text>\r\n<text text-anchor=\"middle\" x=\"603.5\" y=\"-200.8\" font-family=\"Helvetica,sans-Serif\" font-size=\"14.00\">class = 0</text>\r\n</g>\r\n<!-- 0&#45;&gt;8 -->\r\n<g id=\"edge8\" class=\"edge\"><title>0&#45;&gt;8</title>\r\n<path fill=\"none\" stroke=\"black\" d=\"M519.084,-296.884C530.436,-287.62 542.894,-277.455 554.67,-267.845\"/>\r\n<polygon fill=\"black\" stroke=\"black\" points=\"557.157,-270.333 562.692,-261.299 552.731,-264.91 557.157,-270.333\"/>\r\n<text text-anchor=\"middle\" x=\"560.172\" y=\"-282.472\" font-family=\"Helvetica,sans-Serif\" font-size=\"14.00\">False</text>\r\n</g>\r\n<!-- 2 -->\r\n<g id=\"node3\" class=\"node\"><title>2</title>\r\n<path fill=\"#41a1e6\" stroke=\"black\" d=\"M216,-157C216,-157 127,-157 127,-157 121,-157 115,-151 115,-145 115,-145 115,-101 115,-101 115,-95 121,-89 127,-89 127,-89 216,-89 216,-89 222,-89 228,-95 228,-101 228,-101 228,-145 228,-145 228,-151 222,-157 216,-157\"/>\r\n<text text-anchor=\"middle\" x=\"171.5\" y=\"-141.8\" font-family=\"Helvetica,sans-Serif\" font-size=\"14.00\">Age &lt;= 2.5</text>\r\n<text text-anchor=\"middle\" x=\"171.5\" y=\"-126.8\" font-family=\"Helvetica,sans-Serif\" font-size=\"14.00\">samples = 107</text>\r\n<text text-anchor=\"middle\" x=\"171.5\" y=\"-111.8\" font-family=\"Helvetica,sans-Serif\" font-size=\"14.00\">value = [4, 103]</text>\r\n<text text-anchor=\"middle\" x=\"171.5\" y=\"-96.8\" font-family=\"Helvetica,sans-Serif\" font-size=\"14.00\">class = 1</text>\r\n</g>\r\n<!-- 1&#45;&gt;2 -->\r\n<g id=\"edge2\" class=\"edge\"><title>1&#45;&gt;2</title>\r\n<path fill=\"none\" stroke=\"black\" d=\"M295.76,-192.884C277.009,-182.488 256.209,-170.959 237.076,-160.352\"/>\r\n<polygon fill=\"black\" stroke=\"black\" points=\"238.569,-157.178 228.126,-155.391 235.175,-163.3 238.569,-157.178\"/>\r\n</g>\r\n<!-- 5 -->\r\n<g id=\"node6\" class=\"node\"><title>5</title>\r\n<path fill=\"#fceee5\" stroke=\"black\" d=\"M400,-157C400,-157 311,-157 311,-157 305,-157 299,-151 299,-145 299,-145 299,-101 299,-101 299,-95 305,-89 311,-89 311,-89 400,-89 400,-89 406,-89 412,-95 412,-101 412,-101 412,-145 412,-145 412,-151 406,-157 400,-157\"/>\r\n<text text-anchor=\"middle\" x=\"355.5\" y=\"-141.8\" font-family=\"Helvetica,sans-Serif\" font-size=\"14.00\">Fare &lt;= 23.35</text>\r\n<text text-anchor=\"middle\" x=\"355.5\" y=\"-126.8\" font-family=\"Helvetica,sans-Serif\" font-size=\"14.00\">samples = 99</text>\r\n<text text-anchor=\"middle\" x=\"355.5\" y=\"-111.8\" font-family=\"Helvetica,sans-Serif\" font-size=\"14.00\">value = [53, 46]</text>\r\n<text text-anchor=\"middle\" x=\"355.5\" y=\"-96.8\" font-family=\"Helvetica,sans-Serif\" font-size=\"14.00\">class = 0</text>\r\n</g>\r\n<!-- 1&#45;&gt;5 -->\r\n<g id=\"edge5\" class=\"edge\"><title>1&#45;&gt;5</title>\r\n<path fill=\"none\" stroke=\"black\" d=\"M355.5,-192.884C355.5,-184.778 355.5,-175.982 355.5,-167.472\"/>\r\n<polygon fill=\"black\" stroke=\"black\" points=\"359,-167.299 355.5,-157.299 352,-167.299 359,-167.299\"/>\r\n</g>\r\n<!-- 3 -->\r\n<g id=\"node4\" class=\"node\"><title>3</title>\r\n<path fill=\"#ffffff\" stroke=\"black\" d=\"M85,-53C85,-53 12,-53 12,-53 6,-53 0,-47 0,-41 0,-41 0,-12 0,-12 0,-6 6,-0 12,-0 12,-0 85,-0 85,-0 91,-0 97,-6 97,-12 97,-12 97,-41 97,-41 97,-47 91,-53 85,-53\"/>\r\n<text text-anchor=\"middle\" x=\"48.5\" y=\"-37.8\" font-family=\"Helvetica,sans-Serif\" font-size=\"14.00\">samples = 2</text>\r\n<text text-anchor=\"middle\" x=\"48.5\" y=\"-22.8\" font-family=\"Helvetica,sans-Serif\" font-size=\"14.00\">value = [1, 1]</text>\r\n<text text-anchor=\"middle\" x=\"48.5\" y=\"-7.8\" font-family=\"Helvetica,sans-Serif\" font-size=\"14.00\">class = 0</text>\r\n</g>\r\n<!-- 2&#45;&gt;3 -->\r\n<g id=\"edge3\" class=\"edge\"><title>2&#45;&gt;3</title>\r\n<path fill=\"none\" stroke=\"black\" d=\"M128.481,-88.9485C115.978,-79.3431 102.353,-68.8747 89.949,-59.345\"/>\r\n<polygon fill=\"black\" stroke=\"black\" points=\"92.0608,-56.5537 81.9986,-53.2367 87.7961,-62.1046 92.0608,-56.5537\"/>\r\n</g>\r\n<!-- 4 -->\r\n<g id=\"node5\" class=\"node\"><title>4</title>\r\n<path fill=\"#3fa0e6\" stroke=\"black\" d=\"M216,-53C216,-53 127,-53 127,-53 121,-53 115,-47 115,-41 115,-41 115,-12 115,-12 115,-6 121,-0 127,-0 127,-0 216,-0 216,-0 222,-0 228,-6 228,-12 228,-12 228,-41 228,-41 228,-47 222,-53 216,-53\"/>\r\n<text text-anchor=\"middle\" x=\"171.5\" y=\"-37.8\" font-family=\"Helvetica,sans-Serif\" font-size=\"14.00\">samples = 105</text>\r\n<text text-anchor=\"middle\" x=\"171.5\" y=\"-22.8\" font-family=\"Helvetica,sans-Serif\" font-size=\"14.00\">value = [3, 102]</text>\r\n<text text-anchor=\"middle\" x=\"171.5\" y=\"-7.8\" font-family=\"Helvetica,sans-Serif\" font-size=\"14.00\">class = 1</text>\r\n</g>\r\n<!-- 2&#45;&gt;4 -->\r\n<g id=\"edge4\" class=\"edge\"><title>2&#45;&gt;4</title>\r\n<path fill=\"none\" stroke=\"black\" d=\"M171.5,-88.9485C171.5,-80.7153 171.5,-71.848 171.5,-63.4814\"/>\r\n<polygon fill=\"black\" stroke=\"black\" points=\"175,-63.2367 171.5,-53.2367 168,-63.2367 175,-63.2367\"/>\r\n</g>\r\n<!-- 6 -->\r\n<g id=\"node7\" class=\"node\"><title>6</title>\r\n<path fill=\"#d7ebfa\" stroke=\"black\" d=\"M347,-53C347,-53 258,-53 258,-53 252,-53 246,-47 246,-41 246,-41 246,-12 246,-12 246,-6 252,-0 258,-0 258,-0 347,-0 347,-0 353,-0 359,-6 359,-12 359,-12 359,-41 359,-41 359,-47 353,-53 347,-53\"/>\r\n<text text-anchor=\"middle\" x=\"302.5\" y=\"-37.8\" font-family=\"Helvetica,sans-Serif\" font-size=\"14.00\">samples = 81</text>\r\n<text text-anchor=\"middle\" x=\"302.5\" y=\"-22.8\" font-family=\"Helvetica,sans-Serif\" font-size=\"14.00\">value = [36, 45]</text>\r\n<text text-anchor=\"middle\" x=\"302.5\" y=\"-7.8\" font-family=\"Helvetica,sans-Serif\" font-size=\"14.00\">class = 1</text>\r\n</g>\r\n<!-- 5&#45;&gt;6 -->\r\n<g id=\"edge6\" class=\"edge\"><title>5&#45;&gt;6</title>\r\n<path fill=\"none\" stroke=\"black\" d=\"M336.963,-88.9485C332.089,-80.2579 326.819,-70.8608 321.901,-62.0917\"/>\r\n<polygon fill=\"black\" stroke=\"black\" points=\"324.879,-60.2465 316.934,-53.2367 318.773,-63.6707 324.879,-60.2465\"/>\r\n</g>\r\n<!-- 7 -->\r\n<g id=\"node8\" class=\"node\"><title>7</title>\r\n<path fill=\"#e78845\" stroke=\"black\" d=\"M470,-53C470,-53 389,-53 389,-53 383,-53 377,-47 377,-41 377,-41 377,-12 377,-12 377,-6 383,-0 389,-0 389,-0 470,-0 470,-0 476,-0 482,-6 482,-12 482,-12 482,-41 482,-41 482,-47 476,-53 470,-53\"/>\r\n<text text-anchor=\"middle\" x=\"429.5\" y=\"-37.8\" font-family=\"Helvetica,sans-Serif\" font-size=\"14.00\">samples = 18</text>\r\n<text text-anchor=\"middle\" x=\"429.5\" y=\"-22.8\" font-family=\"Helvetica,sans-Serif\" font-size=\"14.00\">value = [17, 1]</text>\r\n<text text-anchor=\"middle\" x=\"429.5\" y=\"-7.8\" font-family=\"Helvetica,sans-Serif\" font-size=\"14.00\">class = 0</text>\r\n</g>\r\n<!-- 5&#45;&gt;7 -->\r\n<g id=\"edge7\" class=\"edge\"><title>5&#45;&gt;7</title>\r\n<path fill=\"none\" stroke=\"black\" d=\"M381.382,-88.9485C388.402,-79.9834 396.011,-70.2666 403.061,-61.2629\"/>\r\n<polygon fill=\"black\" stroke=\"black\" points=\"405.937,-63.2679 409.346,-53.2367 400.425,-58.9521 405.937,-63.2679\"/>\r\n</g>\r\n<!-- 9 -->\r\n<g id=\"node10\" class=\"node\"><title>9</title>\r\n<path fill=\"#74baed\" stroke=\"black\" d=\"M644,-157C644,-157 563,-157 563,-157 557,-157 551,-151 551,-145 551,-145 551,-101 551,-101 551,-95 557,-89 563,-89 563,-89 644,-89 644,-89 650,-89 656,-95 656,-101 656,-101 656,-145 656,-145 656,-151 650,-157 644,-157\"/>\r\n<text text-anchor=\"middle\" x=\"603.5\" y=\"-141.8\" font-family=\"Helvetica,sans-Serif\" font-size=\"14.00\">SibSp &lt;= 3.0</text>\r\n<text text-anchor=\"middle\" x=\"603.5\" y=\"-126.8\" font-family=\"Helvetica,sans-Serif\" font-size=\"14.00\">samples = 13</text>\r\n<text text-anchor=\"middle\" x=\"603.5\" y=\"-111.8\" font-family=\"Helvetica,sans-Serif\" font-size=\"14.00\">value = [3, 10]</text>\r\n<text text-anchor=\"middle\" x=\"603.5\" y=\"-96.8\" font-family=\"Helvetica,sans-Serif\" font-size=\"14.00\">class = 1</text>\r\n</g>\r\n<!-- 8&#45;&gt;9 -->\r\n<g id=\"edge9\" class=\"edge\"><title>8&#45;&gt;9</title>\r\n<path fill=\"none\" stroke=\"black\" d=\"M603.5,-192.884C603.5,-184.778 603.5,-175.982 603.5,-167.472\"/>\r\n<polygon fill=\"black\" stroke=\"black\" points=\"607,-167.299 603.5,-157.299 600,-167.299 607,-167.299\"/>\r\n</g>\r\n<!-- 12 -->\r\n<g id=\"node13\" class=\"node\"><title>12</title>\r\n<path fill=\"#ea9a61\" stroke=\"black\" d=\"M840.5,-157C840.5,-157 742.5,-157 742.5,-157 736.5,-157 730.5,-151 730.5,-145 730.5,-145 730.5,-101 730.5,-101 730.5,-95 736.5,-89 742.5,-89 742.5,-89 840.5,-89 840.5,-89 846.5,-89 852.5,-95 852.5,-101 852.5,-101 852.5,-145 852.5,-145 852.5,-151 846.5,-157 840.5,-157\"/>\r\n<text text-anchor=\"middle\" x=\"791.5\" y=\"-141.8\" font-family=\"Helvetica,sans-Serif\" font-size=\"14.00\">Fare &lt;= 52.277</text>\r\n<text text-anchor=\"middle\" x=\"791.5\" y=\"-126.8\" font-family=\"Helvetica,sans-Serif\" font-size=\"14.00\">samples = 377</text>\r\n<text text-anchor=\"middle\" x=\"791.5\" y=\"-111.8\" font-family=\"Helvetica,sans-Serif\" font-size=\"14.00\">value = [314, 63]</text>\r\n<text text-anchor=\"middle\" x=\"791.5\" y=\"-96.8\" font-family=\"Helvetica,sans-Serif\" font-size=\"14.00\">class = 0</text>\r\n</g>\r\n<!-- 8&#45;&gt;12 -->\r\n<g id=\"edge12\" class=\"edge\"><title>8&#45;&gt;12</title>\r\n<path fill=\"none\" stroke=\"black\" d=\"M664.538,-192.884C682.772,-182.991 702.901,-172.07 721.653,-161.895\"/>\r\n<polygon fill=\"black\" stroke=\"black\" points=\"723.326,-164.97 730.447,-157.125 719.988,-158.817 723.326,-164.97\"/>\r\n</g>\r\n<!-- 10 -->\r\n<g id=\"node11\" class=\"node\"><title>10</title>\r\n<path fill=\"#399de5\" stroke=\"black\" d=\"M585,-53C585,-53 512,-53 512,-53 506,-53 500,-47 500,-41 500,-41 500,-12 500,-12 500,-6 506,-0 512,-0 512,-0 585,-0 585,-0 591,-0 597,-6 597,-12 597,-12 597,-41 597,-41 597,-47 591,-53 585,-53\"/>\r\n<text text-anchor=\"middle\" x=\"548.5\" y=\"-37.8\" font-family=\"Helvetica,sans-Serif\" font-size=\"14.00\">samples = 9</text>\r\n<text text-anchor=\"middle\" x=\"548.5\" y=\"-22.8\" font-family=\"Helvetica,sans-Serif\" font-size=\"14.00\">value = [0, 9]</text>\r\n<text text-anchor=\"middle\" x=\"548.5\" y=\"-7.8\" font-family=\"Helvetica,sans-Serif\" font-size=\"14.00\">class = 1</text>\r\n</g>\r\n<!-- 9&#45;&gt;10 -->\r\n<g id=\"edge10\" class=\"edge\"><title>9&#45;&gt;10</title>\r\n<path fill=\"none\" stroke=\"black\" d=\"M584.264,-88.9485C579.206,-80.2579 573.736,-70.8608 568.633,-62.0917\"/>\r\n<polygon fill=\"black\" stroke=\"black\" points=\"571.534,-60.1189 563.479,-53.2367 565.484,-63.6401 571.534,-60.1189\"/>\r\n</g>\r\n<!-- 11 -->\r\n<g id=\"node12\" class=\"node\"><title>11</title>\r\n<path fill=\"#eeab7b\" stroke=\"black\" d=\"M700,-53C700,-53 627,-53 627,-53 621,-53 615,-47 615,-41 615,-41 615,-12 615,-12 615,-6 621,-0 627,-0 627,-0 700,-0 700,-0 706,-0 712,-6 712,-12 712,-12 712,-41 712,-41 712,-47 706,-53 700,-53\"/>\r\n<text text-anchor=\"middle\" x=\"663.5\" y=\"-37.8\" font-family=\"Helvetica,sans-Serif\" font-size=\"14.00\">samples = 4</text>\r\n<text text-anchor=\"middle\" x=\"663.5\" y=\"-22.8\" font-family=\"Helvetica,sans-Serif\" font-size=\"14.00\">value = [3, 1]</text>\r\n<text text-anchor=\"middle\" x=\"663.5\" y=\"-7.8\" font-family=\"Helvetica,sans-Serif\" font-size=\"14.00\">class = 0</text>\r\n</g>\r\n<!-- 9&#45;&gt;11 -->\r\n<g id=\"edge11\" class=\"edge\"><title>9&#45;&gt;11</title>\r\n<path fill=\"none\" stroke=\"black\" d=\"M624.485,-88.9485C630.061,-80.1664 636.095,-70.6629 641.713,-61.815\"/>\r\n<polygon fill=\"black\" stroke=\"black\" points=\"644.754,-63.5549 647.159,-53.2367 638.844,-59.8028 644.754,-63.5549\"/>\r\n</g>\r\n<!-- 13 -->\r\n<g id=\"node14\" class=\"node\"><title>13</title>\r\n<path fill=\"#e99559\" stroke=\"black\" d=\"M840.5,-53C840.5,-53 742.5,-53 742.5,-53 736.5,-53 730.5,-47 730.5,-41 730.5,-41 730.5,-12 730.5,-12 730.5,-6 736.5,-0 742.5,-0 742.5,-0 840.5,-0 840.5,-0 846.5,-0 852.5,-6 852.5,-12 852.5,-12 852.5,-41 852.5,-41 852.5,-47 846.5,-53 840.5,-53\"/>\r\n<text text-anchor=\"middle\" x=\"791.5\" y=\"-37.8\" font-family=\"Helvetica,sans-Serif\" font-size=\"14.00\">samples = 332</text>\r\n<text text-anchor=\"middle\" x=\"791.5\" y=\"-22.8\" font-family=\"Helvetica,sans-Serif\" font-size=\"14.00\">value = [286, 46]</text>\r\n<text text-anchor=\"middle\" x=\"791.5\" y=\"-7.8\" font-family=\"Helvetica,sans-Serif\" font-size=\"14.00\">class = 0</text>\r\n</g>\r\n<!-- 12&#45;&gt;13 -->\r\n<g id=\"edge13\" class=\"edge\"><title>12&#45;&gt;13</title>\r\n<path fill=\"none\" stroke=\"black\" d=\"M791.5,-88.9485C791.5,-80.7153 791.5,-71.848 791.5,-63.4814\"/>\r\n<polygon fill=\"black\" stroke=\"black\" points=\"795,-63.2367 791.5,-53.2367 788,-63.2367 795,-63.2367\"/>\r\n</g>\r\n<!-- 14 -->\r\n<g id=\"node15\" class=\"node\"><title>14</title>\r\n<path fill=\"#f5ceb1\" stroke=\"black\" d=\"M972,-53C972,-53 883,-53 883,-53 877,-53 871,-47 871,-41 871,-41 871,-12 871,-12 871,-6 877,-0 883,-0 883,-0 972,-0 972,-0 978,-0 984,-6 984,-12 984,-12 984,-41 984,-41 984,-47 978,-53 972,-53\"/>\r\n<text text-anchor=\"middle\" x=\"927.5\" y=\"-37.8\" font-family=\"Helvetica,sans-Serif\" font-size=\"14.00\">samples = 45</text>\r\n<text text-anchor=\"middle\" x=\"927.5\" y=\"-22.8\" font-family=\"Helvetica,sans-Serif\" font-size=\"14.00\">value = [28, 17]</text>\r\n<text text-anchor=\"middle\" x=\"927.5\" y=\"-7.8\" font-family=\"Helvetica,sans-Serif\" font-size=\"14.00\">class = 0</text>\r\n</g>\r\n<!-- 12&#45;&gt;14 -->\r\n<g id=\"edge14\" class=\"edge\"><title>12&#45;&gt;14</title>\r\n<path fill=\"none\" stroke=\"black\" d=\"M839.066,-88.9485C853.022,-79.2516 868.243,-68.6752 882.062,-59.073\"/>\r\n<polygon fill=\"black\" stroke=\"black\" points=\"884.246,-61.8172 890.461,-53.2367 880.252,-56.0687 884.246,-61.8172\"/>\r\n</g>\r\n</g>\r\n</svg>\r\n",
            "text/plain": [
              "<graphviz.files.Source at 0x1c7cf6e5988>"
            ]
          },
          "metadata": {
            "tags": []
          },
          "execution_count": 56
        }
      ]
    },
    {
      "cell_type": "code",
      "metadata": {
        "id": "OLVchw_R-lcK"
      },
      "source": [
        ""
      ],
      "execution_count": null,
      "outputs": []
    },
    {
      "cell_type": "markdown",
      "metadata": {
        "_cell_guid": "10de6c02-59d4-48e1-85ed-d0c81cb22916",
        "_uuid": "244ac1cc928275a98260802d497760e2be705274",
        "collapsed": true,
        "id": "abD678avURM2"
      },
      "source": [
        "The training is the process of finding the most important features, and then use them to split the data. The training algorithm found that the most important features is the Sex. secondly, the class for females, and age for males. the bluer the block is, the higher the survival rate is, and opoositely with browner blocker. "
      ]
    }
  ]
}