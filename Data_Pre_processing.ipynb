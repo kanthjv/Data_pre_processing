{
  "nbformat": 4,
  "nbformat_minor": 0,
  "metadata": {
    "colab": {
      "name": "Data Pre-processing.ipynb",
      "provenance": [],
      "collapsed_sections": [],
      "toc_visible": true
    },
    "kernelspec": {
      "name": "python3",
      "display_name": "Python 3"
    }
  },
  "cells": [
    {
      "cell_type": "markdown",
      "metadata": {
        "id": "eCkA86FMztFs"
      },
      "source": [
        "# Introduction to Data Pre-processing\n",
        "Data pre-processing is one of the important step of the Data Science pipeline. The quality of data and the useful information can be derived from it which directly affects our model to learn. It is also necessary to convert the categorical data to numerical as machine learning algorithm takes only numerical data. In this tutorial, you will learn basic data pre-processing steps.\n",
        "\n",
        "### Agenda\n",
        "*  Loading Libraries\n",
        "*  Loading Data\n",
        "*  Data Overview and Summary\n",
        "*  Data Pre-processing\n",
        "    *  Dropping Irrelavent Features\n",
        "    *  Dropping Rows with Missing Values\n",
        "    *  Problems with dropping rows\n",
        "    *  Taking care of missing data\n",
        "    *  Handling Categorical Variables - Creating Dummy Variables\n",
        "    * Separating input variables and output variable\n",
        "    * Splitting the data into train set and test set\n",
        "\n",
        "We are going to use the titanic dataset.\n",
        "\n",
        "## About Titanic\n",
        "On April 15, 1912, during her maiden voyage, the widely considered “unsinkable” RMS Titanic sank after colliding with an iceberg. Unfortunately, there weren’t enough lifeboats for everyone onboard, resulting in the death of 1502 out of 2224 passengers and crew.\n",
        "\n",
        "In the Hollywood blockbuster that was modelled on this tragedy, it seemed to be the case that upper-class people, women and children were more likely to survive than others. But did these properties (socio-economic status, sex and age) really influence one's survival chances?\n",
        "\n",
        "#### **Problem Identification: The goal is to predict who survived during this titanic incident (shipwreck).**\n",
        "\n",
        "#### Dataset download link\n",
        "https://docs.google.com/spreadsheets/d/1hFOPnxVT9fyT4TFlwuGGbDLfclY43P48UV24PNfAW2M/edit#gid=1297342310"
      ]
    },
    {
      "cell_type": "markdown",
      "metadata": {
        "id": "m5H5ZLLN4P7e"
      },
      "source": [
        "## Loading Libraries\n",
        "You can load all the libraries that you think will require or you can import as you go along.\n",
        "\n",
        "**Alias for libraries:** numpy --> np, pandas --> pd"
      ]
    },
    {
      "cell_type": "code",
      "metadata": {
        "id": "sz9HzzhSzm9A"
      },
      "source": [
        "import numpy as np        # A fundamental package for linear algebra and multidimensional arrays\n",
        "import pandas as pd       # Data analysis and manipulation tool."
      ],
      "execution_count": 1,
      "outputs": []
    },
    {
      "cell_type": "code",
      "metadata": {
        "id": "HgxGQJST6Qlp",
        "outputId": "3a87f362-fedf-48dd-a4cd-a1509a407eb9",
        "colab": {
          "base_uri": "https://localhost:8080/"
        }
      },
      "source": [
        "from google.colab import drive\n",
        "drive.mount('/content/drive')"
      ],
      "execution_count": 2,
      "outputs": [
        {
          "output_type": "stream",
          "text": [
            "Mounted at /content/drive\n"
          ],
          "name": "stdout"
        }
      ]
    },
    {
      "cell_type": "markdown",
      "metadata": {
        "id": "NewOrBew5xBT"
      },
      "source": [
        "## Loading Data\n",
        "The data is in csv format. Let's load the csv data using pandas read_csv() function."
      ]
    },
    {
      "cell_type": "code",
      "metadata": {
        "id": "aP7GfKaM48XX"
      },
      "source": [
        "# I have provided the path of data which I have saved in my drive as 'titanic_train_data'.\n",
        "# You provide the path where you have saved the data.\n",
        "titanic_data = pd.read_csv(\"/content/drive/My Drive/titanic_train_data.csv\")"
      ],
      "execution_count": 3,
      "outputs": []
    },
    {
      "cell_type": "markdown",
      "metadata": {
        "id": "YiEmdMWh7wBY"
      },
      "source": [
        "## Data Overview and Summary\n",
        "Let's look how the data look like and a concise summary of the data."
      ]
    },
    {
      "cell_type": "code",
      "metadata": {
        "id": "ZYrp9_Ju7kEC",
        "colab": {
          "base_uri": "https://localhost:8080/",
          "height": 238
        },
        "outputId": "f62b5d8d-dfeb-4366-97b7-6e55aef695ad"
      },
      "source": [
        "# Displaying 5 random records\n",
        "titanic_data.sample(5)     # You can pass the number of random records that you want to be displayed in 'sample()'"
      ],
      "execution_count": 4,
      "outputs": [
        {
          "output_type": "execute_result",
          "data": {
            "text/html": [
              "<div>\n",
              "<style scoped>\n",
              "    .dataframe tbody tr th:only-of-type {\n",
              "        vertical-align: middle;\n",
              "    }\n",
              "\n",
              "    .dataframe tbody tr th {\n",
              "        vertical-align: top;\n",
              "    }\n",
              "\n",
              "    .dataframe thead th {\n",
              "        text-align: right;\n",
              "    }\n",
              "</style>\n",
              "<table border=\"1\" class=\"dataframe\">\n",
              "  <thead>\n",
              "    <tr style=\"text-align: right;\">\n",
              "      <th></th>\n",
              "      <th>PassengerId</th>\n",
              "      <th>Survived</th>\n",
              "      <th>Pclass</th>\n",
              "      <th>Name</th>\n",
              "      <th>Sex</th>\n",
              "      <th>Age</th>\n",
              "      <th>SibSp</th>\n",
              "      <th>Parch</th>\n",
              "      <th>Ticket</th>\n",
              "      <th>Fare</th>\n",
              "      <th>Cabin</th>\n",
              "      <th>Embarked</th>\n",
              "    </tr>\n",
              "  </thead>\n",
              "  <tbody>\n",
              "    <tr>\n",
              "      <th>825</th>\n",
              "      <td>826</td>\n",
              "      <td>0</td>\n",
              "      <td>3</td>\n",
              "      <td>Flynn, Mr. John</td>\n",
              "      <td>male</td>\n",
              "      <td>NaN</td>\n",
              "      <td>0</td>\n",
              "      <td>0</td>\n",
              "      <td>368323</td>\n",
              "      <td>6.950</td>\n",
              "      <td>NaN</td>\n",
              "      <td>Q</td>\n",
              "    </tr>\n",
              "    <tr>\n",
              "      <th>191</th>\n",
              "      <td>192</td>\n",
              "      <td>0</td>\n",
              "      <td>2</td>\n",
              "      <td>Carbines, Mr. William</td>\n",
              "      <td>male</td>\n",
              "      <td>19.0</td>\n",
              "      <td>0</td>\n",
              "      <td>0</td>\n",
              "      <td>28424</td>\n",
              "      <td>13.000</td>\n",
              "      <td>NaN</td>\n",
              "      <td>S</td>\n",
              "    </tr>\n",
              "    <tr>\n",
              "      <th>376</th>\n",
              "      <td>377</td>\n",
              "      <td>1</td>\n",
              "      <td>3</td>\n",
              "      <td>Landergren, Miss. Aurora Adelia</td>\n",
              "      <td>female</td>\n",
              "      <td>22.0</td>\n",
              "      <td>0</td>\n",
              "      <td>0</td>\n",
              "      <td>C 7077</td>\n",
              "      <td>7.250</td>\n",
              "      <td>NaN</td>\n",
              "      <td>S</td>\n",
              "    </tr>\n",
              "    <tr>\n",
              "      <th>297</th>\n",
              "      <td>298</td>\n",
              "      <td>0</td>\n",
              "      <td>1</td>\n",
              "      <td>Allison, Miss. Helen Loraine</td>\n",
              "      <td>female</td>\n",
              "      <td>2.0</td>\n",
              "      <td>1</td>\n",
              "      <td>2</td>\n",
              "      <td>113781</td>\n",
              "      <td>151.550</td>\n",
              "      <td>C22 C26</td>\n",
              "      <td>S</td>\n",
              "    </tr>\n",
              "    <tr>\n",
              "      <th>350</th>\n",
              "      <td>351</td>\n",
              "      <td>0</td>\n",
              "      <td>3</td>\n",
              "      <td>Odahl, Mr. Nils Martin</td>\n",
              "      <td>male</td>\n",
              "      <td>23.0</td>\n",
              "      <td>0</td>\n",
              "      <td>0</td>\n",
              "      <td>7267</td>\n",
              "      <td>9.225</td>\n",
              "      <td>NaN</td>\n",
              "      <td>S</td>\n",
              "    </tr>\n",
              "  </tbody>\n",
              "</table>\n",
              "</div>"
            ],
            "text/plain": [
              "     PassengerId  Survived  Pclass  ...     Fare    Cabin  Embarked\n",
              "825          826         0       3  ...    6.950      NaN         Q\n",
              "191          192         0       2  ...   13.000      NaN         S\n",
              "376          377         1       3  ...    7.250      NaN         S\n",
              "297          298         0       1  ...  151.550  C22 C26         S\n",
              "350          351         0       3  ...    9.225      NaN         S\n",
              "\n",
              "[5 rows x 12 columns]"
            ]
          },
          "metadata": {
            "tags": []
          },
          "execution_count": 4
        }
      ]
    },
    {
      "cell_type": "markdown",
      "metadata": {
        "id": "MJR0CeoZ8fm1"
      },
      "source": [
        "We can observe that there are some null values (i.e. NaN) in 'Age' and 'Cabin' attributes."
      ]
    },
    {
      "cell_type": "code",
      "metadata": {
        "id": "ZZAybhLZ8ZfP",
        "colab": {
          "base_uri": "https://localhost:8080/",
          "height": 340
        },
        "outputId": "cfcd8327-150d-4a26-d522-0c36bdb5c637"
      },
      "source": [
        "# A concise summary of the data\n",
        "titanic_data.info()"
      ],
      "execution_count": null,
      "outputs": [
        {
          "output_type": "stream",
          "text": [
            "<class 'pandas.core.frame.DataFrame'>\n",
            "RangeIndex: 891 entries, 0 to 890\n",
            "Data columns (total 12 columns):\n",
            " #   Column       Non-Null Count  Dtype  \n",
            "---  ------       --------------  -----  \n",
            " 0   PassengerId  891 non-null    int64  \n",
            " 1   Survived     891 non-null    int64  \n",
            " 2   Pclass       891 non-null    int64  \n",
            " 3   Name         891 non-null    object \n",
            " 4   Sex          891 non-null    object \n",
            " 5   Age          714 non-null    float64\n",
            " 6   SibSp        891 non-null    int64  \n",
            " 7   Parch        891 non-null    int64  \n",
            " 8   Ticket       891 non-null    object \n",
            " 9   Fare         891 non-null    float64\n",
            " 10  Cabin        204 non-null    object \n",
            " 11  Embarked     889 non-null    object \n",
            "dtypes: float64(2), int64(5), object(5)\n",
            "memory usage: 83.7+ KB\n"
          ],
          "name": "stdout"
        }
      ]
    },
    {
      "cell_type": "markdown",
      "metadata": {
        "id": "p_h1fsWD863h"
      },
      "source": [
        "The concise summary of data tells us:\n",
        "*  There are total 891 observations / records in the dataset\n",
        "*  Age, Cabin and Embarked features have missing values. Cabin has a lot of missing values. Embarked has only two missing values.\n",
        "*  There are some categorical variables like Embarked, Sex, which are required to be converted into numerical.\n",
        "\n",
        "Similarly, you can observe some other information from above concise summary.\n",
        "\n"
      ]
    },
    {
      "cell_type": "markdown",
      "metadata": {
        "id": "LuqUvxEeV-0x"
      },
      "source": [
        "#### Exploring the attributes:\n",
        "*  'Pclass' column contains a number which indicates class of the passenger's ticket:  1 for first class, 2 for second class and 3 for third class. This could function as a proxy for the socio-economic status of the passenger ('upper', 'middle', 'low'). \n",
        "\n",
        "\n",
        "*  The 'SibSp' column contains the number of siblings + spouses of the passenger also aboard the Titanic;\n",
        "\n",
        "*  The 'ParCh' column indicates the number of parents + children of the passenger also aboard the Titanic. \n",
        "\n",
        "*  The 'Ticket' column contains the ticket numbers of passengers (which are not likely to have any predictive power regarding survival);\n",
        "\n",
        "*  'Cabin' contains the cabin number of the passenger, if he/she had a cabin, and lastly, \n",
        "\n",
        "*  'Embarked' indicates the port of embarkation of the passenger: **C**herbourg, **Q**ueenstown or **S**outhampton. The meaning of the other columns is clear, I think."
      ]
    },
    {
      "cell_type": "markdown",
      "metadata": {
        "id": "nckRIyKk9jnj"
      },
      "source": [
        "# Data Pre - processing\n",
        "Now we come to the main agenda of this tutorial i.e. data pre-processing."
      ]
    },
    {
      "cell_type": "markdown",
      "metadata": {
        "id": "3vmc5-Ed-bIs"
      },
      "source": [
        "### Dropping Irrelavent Features / Columns\n",
        "Here the goal is to predict the survival of the passengers. We can understand form our common sense or understanding that a person cannot survive because of his / her name, ticket number or cabin. So, we can say that these are irrelavent features. Let's drop these features from the dataset as these do not contribute much for the survival of the passenger.\n",
        "\n",
        "This is very subjective and solely depends on the nature of the dataset and underlying context. We cannot generalize this procedure to all the datasets."
      ]
    },
    {
      "cell_type": "code",
      "metadata": {
        "id": "b9O9IBso80A2"
      },
      "source": [
        "cols_to_drop = ['Name', 'Ticket', 'Cabin']     # columns / features to be dropped\n",
        "\n",
        "# We can use .drop() frunction of pandas to drop the columns.\n",
        "# If you remember from the pandas session, for columns to be dropped the axis must be 1.\n",
        "titanic_data.drop(columns = cols_to_drop, axis = 1, inplace = True)     # we are making changes in the dataframe itself, so, inplace = True"
      ],
      "execution_count": 5,
      "outputs": []
    },
    {
      "cell_type": "code",
      "metadata": {
        "id": "52o0s9MoBRQK",
        "colab": {
          "base_uri": "https://localhost:8080/"
        },
        "outputId": "b42d2edf-77b6-4ffa-f6d8-689ac9f8bfd6"
      },
      "source": [
        "# Let's check what columns we have using 'columns' method\n",
        "titanic_data.columns                   # returns list of columns in the dataframe"
      ],
      "execution_count": 10,
      "outputs": [
        {
          "output_type": "execute_result",
          "data": {
            "text/plain": [
              "Index(['PassengerId', 'Survived', 'Pclass', 'Sex', 'Age', 'SibSp', 'Parch',\n",
              "       'Fare', 'Embarked'],\n",
              "      dtype='object')"
            ]
          },
          "metadata": {
            "tags": []
          },
          "execution_count": 10
        }
      ]
    },
    {
      "cell_type": "markdown",
      "metadata": {
        "id": "TL6fwyVgBg5n"
      },
      "source": [
        "If you notice, there are no 'Name', 'Ticket' and 'Cabin' features in the dataframe."
      ]
    },
    {
      "cell_type": "markdown",
      "metadata": {
        "id": "XV7MrMXqBs6N"
      },
      "source": [
        "### Dropping Rows with Missing Values\n",
        "We can also drop some rows with missing values."
      ]
    },
    {
      "cell_type": "code",
      "metadata": {
        "id": "gk6Lv5TEBewE"
      },
      "source": [
        "# First let's make a copy of the dataset\n",
        "data = titanic_data.copy()        "
      ],
      "execution_count": 8,
      "outputs": []
    },
    {
      "cell_type": "markdown",
      "metadata": {
        "id": "_2Sy31UgCEp9"
      },
      "source": [
        "Now, we will drop rows with missing values from 'data'."
      ]
    },
    {
      "cell_type": "code",
      "metadata": {
        "id": "UsWXV3o1CCf5"
      },
      "source": [
        "# Again the drop() function of pandas can be used to drop rows with missing values.\n",
        "# The only change will be axis = 0 instead of axis = 1\n",
        "data.dropna(axis = 0, inplace = True)"
      ],
      "execution_count": 9,
      "outputs": []
    },
    {
      "cell_type": "code",
      "metadata": {
        "id": "ERkstxdyETgB",
        "colab": {
          "base_uri": "https://localhost:8080/"
        },
        "outputId": "2707b32c-d644-4eba-b6d9-23d177db57eb"
      },
      "source": [
        "# looking at the info\n",
        "data.info()"
      ],
      "execution_count": 11,
      "outputs": [
        {
          "output_type": "stream",
          "text": [
            "<class 'pandas.core.frame.DataFrame'>\n",
            "Int64Index: 712 entries, 0 to 890\n",
            "Data columns (total 9 columns):\n",
            " #   Column       Non-Null Count  Dtype  \n",
            "---  ------       --------------  -----  \n",
            " 0   PassengerId  712 non-null    int64  \n",
            " 1   Survived     712 non-null    int64  \n",
            " 2   Pclass       712 non-null    int64  \n",
            " 3   Sex          712 non-null    object \n",
            " 4   Age          712 non-null    float64\n",
            " 5   SibSp        712 non-null    int64  \n",
            " 6   Parch        712 non-null    int64  \n",
            " 7   Fare         712 non-null    float64\n",
            " 8   Embarked     712 non-null    object \n",
            "dtypes: float64(2), int64(5), object(2)\n",
            "memory usage: 55.6+ KB\n"
          ],
          "name": "stdout"
        }
      ]
    },
    {
      "cell_type": "markdown",
      "metadata": {
        "id": "gvUbA8qeEjb1"
      },
      "source": [
        "### Problems with droping rows"
      ]
    },
    {
      "cell_type": "code",
      "metadata": {
        "id": "Ze4Bdn8BEXxw",
        "colab": {
          "base_uri": "https://localhost:8080/"
        },
        "outputId": "d7b2a035-f79e-4ce6-d479-0422ee5f36b7"
      },
      "source": [
        "# Number of rows dropped\n",
        "891- 712"
      ],
      "execution_count": 12,
      "outputs": [
        {
          "output_type": "execute_result",
          "data": {
            "text/plain": [
              "179"
            ]
          },
          "metadata": {
            "tags": []
          },
          "execution_count": 12
        }
      ]
    },
    {
      "cell_type": "markdown",
      "metadata": {
        "id": "jGssO80-EgOb"
      },
      "source": [
        "If you notice here we have dropped 179 rows out of 891 rows and have lost lot of data i.e. out of 891 records, 179 records are good amount of data and we have lost those data.\n",
        "\n",
        "The more data you feed the machine learning model, the better performance it gives. So, we always try to preserve data as much as possible."
      ]
    },
    {
      "cell_type": "code",
      "metadata": {
        "id": "X1tufjWpEc4d",
        "colab": {
          "base_uri": "https://localhost:8080/"
        },
        "outputId": "004fc0ba-d21b-4bda-c22d-7f559eb8d32f"
      },
      "source": [
        "# We have our titanic_data where we have not removed any rows.\n",
        "titanic_data.info()"
      ],
      "execution_count": 13,
      "outputs": [
        {
          "output_type": "stream",
          "text": [
            "<class 'pandas.core.frame.DataFrame'>\n",
            "RangeIndex: 891 entries, 0 to 890\n",
            "Data columns (total 9 columns):\n",
            " #   Column       Non-Null Count  Dtype  \n",
            "---  ------       --------------  -----  \n",
            " 0   PassengerId  891 non-null    int64  \n",
            " 1   Survived     891 non-null    int64  \n",
            " 2   Pclass       891 non-null    int64  \n",
            " 3   Sex          891 non-null    object \n",
            " 4   Age          714 non-null    float64\n",
            " 5   SibSp        891 non-null    int64  \n",
            " 6   Parch        891 non-null    int64  \n",
            " 7   Fare         891 non-null    float64\n",
            " 8   Embarked     889 non-null    object \n",
            "dtypes: float64(2), int64(5), object(2)\n",
            "memory usage: 62.8+ KB\n"
          ],
          "name": "stdout"
        }
      ]
    },
    {
      "cell_type": "markdown",
      "metadata": {
        "id": "j_Xow_LHA7az"
      },
      "source": [
        "##\r\n",
        "There are only 714 non-null values over 891  under 'Age'and\r\n",
        "##\r\n",
        "889 non-null values over  891 under 'Embarked'"
      ]
    },
    {
      "cell_type": "markdown",
      "metadata": {
        "id": "Q_7Sip14Glrl"
      },
      "source": [
        "### Taking Care of Missing Data\n",
        "There are some missing values in 'Age' and 'Embarked' features.\n",
        "\n",
        "We can compute median or interpolate() to fill the missing values of 'Age' feature."
      ]
    },
    {
      "cell_type": "code",
      "metadata": {
        "id": "UMTMhQIOGczp",
        "outputId": "36a1273f-c254-4070-dd24-730ec2130d77",
        "colab": {
          "base_uri": "https://localhost:8080/"
        }
      },
      "source": [
        "titanic_data['Age'] = titanic_data['Age'].interpolate()\r\n",
        "print(titanic_data['Age'])"
      ],
      "execution_count": 16,
      "outputs": [
        {
          "output_type": "stream",
          "text": [
            "0      22.0\n",
            "1      38.0\n",
            "2      26.0\n",
            "3      35.0\n",
            "4      35.0\n",
            "       ... \n",
            "886    27.0\n",
            "887    19.0\n",
            "888    22.5\n",
            "889    26.0\n",
            "890    32.0\n",
            "Name: Age, Length: 891, dtype: float64\n"
          ],
          "name": "stdout"
        }
      ]
    },
    {
      "cell_type": "markdown",
      "metadata": {
        "id": "Xj_MSQ-3LAaZ"
      },
      "source": [
        "'Embarked' is a categorical variable. Let's take a look at its unique values."
      ]
    },
    {
      "cell_type": "code",
      "metadata": {
        "id": "qdC6mMn9IkiW",
        "colab": {
          "base_uri": "https://localhost:8080/"
        },
        "outputId": "1bedf5b4-78c5-49df-cae0-d5c66fcb470f"
      },
      "source": [
        "titanic_data.Embarked.unique()"
      ],
      "execution_count": 20,
      "outputs": [
        {
          "output_type": "execute_result",
          "data": {
            "text/plain": [
              "array(['S', 'C', 'Q', nan], dtype=object)"
            ]
          },
          "metadata": {
            "tags": []
          },
          "execution_count": 20
        }
      ]
    },
    {
      "cell_type": "markdown",
      "metadata": {
        "id": "aeQzAmdmLNZt"
      },
      "source": [
        "There are 3 unique values with two missing values."
      ]
    },
    {
      "cell_type": "code",
      "metadata": {
        "id": "2kGGvbhXLKQJ",
        "colab": {
          "base_uri": "https://localhost:8080/"
        },
        "outputId": "febced98-ffed-4ab6-9433-51dd635dece1"
      },
      "source": [
        "# Looking at frequency of each values in 'Embarked'\n",
        "titanic_data.Embarked.value_counts()"
      ],
      "execution_count": 21,
      "outputs": [
        {
          "output_type": "execute_result",
          "data": {
            "text/plain": [
              "S    644\n",
              "C    168\n",
              "Q     77\n",
              "Name: Embarked, dtype: int64"
            ]
          },
          "metadata": {
            "tags": []
          },
          "execution_count": 21
        }
      ]
    },
    {
      "cell_type": "markdown",
      "metadata": {
        "id": "netEJSzjLhft"
      },
      "source": [
        "'S' is the most occuring value in 'Embarked' column. So, we can fill the two missing values with 'S' assuming that the two passengers whose port of Embarkation is missing might have embarked from 'Southampton' i.e. 'S'.\n",
        "\n",
        "Let's fill the null values of Embarked."
      ]
    },
    {
      "cell_type": "code",
      "metadata": {
        "id": "dEqseBNELgAs"
      },
      "source": [
        "# We can use fillna() function to fill the missing values as discussed in the pandas session / notebook.\n",
        "titanic_data.Embarked.fillna(value='S', axis = 0, inplace = True)"
      ],
      "execution_count": 23,
      "outputs": []
    },
    {
      "cell_type": "code",
      "metadata": {
        "id": "rXRpe8fQMyND",
        "colab": {
          "base_uri": "https://localhost:8080/"
        },
        "outputId": "01d2c17c-b6fb-4756-be1f-264d043d5144"
      },
      "source": [
        "# We can check if there still exist any missing value using the info() method\n",
        "titanic_data.info()"
      ],
      "execution_count": 24,
      "outputs": [
        {
          "output_type": "stream",
          "text": [
            "<class 'pandas.core.frame.DataFrame'>\n",
            "RangeIndex: 891 entries, 0 to 890\n",
            "Data columns (total 9 columns):\n",
            " #   Column       Non-Null Count  Dtype  \n",
            "---  ------       --------------  -----  \n",
            " 0   PassengerId  891 non-null    int64  \n",
            " 1   Survived     891 non-null    int64  \n",
            " 2   Pclass       891 non-null    int64  \n",
            " 3   Sex          891 non-null    object \n",
            " 4   Age          891 non-null    float64\n",
            " 5   SibSp        891 non-null    int64  \n",
            " 6   Parch        891 non-null    int64  \n",
            " 7   Fare         891 non-null    float64\n",
            " 8   Embarked     891 non-null    object \n",
            "dtypes: float64(2), int64(5), object(2)\n",
            "memory usage: 62.8+ KB\n"
          ],
          "name": "stdout"
        }
      ]
    },
    {
      "cell_type": "markdown",
      "metadata": {
        "id": "F4S0syE1NHsF"
      },
      "source": [
        "All the features have 891 non - null values. Now we don't have nay missing values."
      ]
    },
    {
      "cell_type": "markdown",
      "metadata": {
        "id": "n_Q7PjzCNaJr"
      },
      "source": [
        "### Handling Categorical Variables - Creating Dummy Variables\n",
        "There are many methods of dealing with categorical data. One of the known method is creating dummy variables.\n",
        "\n",
        "**Creating Dummy Variables:**\n",
        "Let's understand using Embarked feature. This feature has 3 unique values. \n",
        "In this case 3 new features will be created - 'C', 'Q' and 'S'. If the passenger had embarked from 'Cherbourg' (i.e. C), the newly generated column 'C' will have its value as 1 else 0 and similarly for other dummy variables."
      ]
    },
    {
      "cell_type": "markdown",
      "metadata": {
        "id": "mtmJrGQ3TdgH"
      },
      "source": [
        "There are three categorical feature with us in this dataset - Pclaa, Sex and Embarked. Let's create dummy variables for this."
      ]
    },
    {
      "cell_type": "code",
      "metadata": {
        "id": "rBIVoxfaNFUp"
      },
      "source": [
        "titanic_data = pd.get_dummies(titanic_data, columns=['Pclass', 'Sex', 'Embarked'])"
      ],
      "execution_count": 25,
      "outputs": []
    },
    {
      "cell_type": "code",
      "metadata": {
        "id": "UsIyl7dGUtrn",
        "colab": {
          "base_uri": "https://localhost:8080/",
          "height": 100
        },
        "outputId": "48ea9e0a-d078-43e5-a593-1ee959ced5f3"
      },
      "source": [
        "titanic_data.head(1)"
      ],
      "execution_count": 26,
      "outputs": [
        {
          "output_type": "execute_result",
          "data": {
            "text/html": [
              "<div>\n",
              "<style scoped>\n",
              "    .dataframe tbody tr th:only-of-type {\n",
              "        vertical-align: middle;\n",
              "    }\n",
              "\n",
              "    .dataframe tbody tr th {\n",
              "        vertical-align: top;\n",
              "    }\n",
              "\n",
              "    .dataframe thead th {\n",
              "        text-align: right;\n",
              "    }\n",
              "</style>\n",
              "<table border=\"1\" class=\"dataframe\">\n",
              "  <thead>\n",
              "    <tr style=\"text-align: right;\">\n",
              "      <th></th>\n",
              "      <th>PassengerId</th>\n",
              "      <th>Survived</th>\n",
              "      <th>Age</th>\n",
              "      <th>SibSp</th>\n",
              "      <th>Parch</th>\n",
              "      <th>Fare</th>\n",
              "      <th>Pclass_1</th>\n",
              "      <th>Pclass_2</th>\n",
              "      <th>Pclass_3</th>\n",
              "      <th>Sex_female</th>\n",
              "      <th>Sex_male</th>\n",
              "      <th>Embarked_C</th>\n",
              "      <th>Embarked_Q</th>\n",
              "      <th>Embarked_S</th>\n",
              "    </tr>\n",
              "  </thead>\n",
              "  <tbody>\n",
              "    <tr>\n",
              "      <th>0</th>\n",
              "      <td>1</td>\n",
              "      <td>0</td>\n",
              "      <td>22.0</td>\n",
              "      <td>1</td>\n",
              "      <td>0</td>\n",
              "      <td>7.25</td>\n",
              "      <td>0</td>\n",
              "      <td>0</td>\n",
              "      <td>1</td>\n",
              "      <td>0</td>\n",
              "      <td>1</td>\n",
              "      <td>0</td>\n",
              "      <td>0</td>\n",
              "      <td>1</td>\n",
              "    </tr>\n",
              "  </tbody>\n",
              "</table>\n",
              "</div>"
            ],
            "text/plain": [
              "   PassengerId  Survived   Age  ...  Embarked_C  Embarked_Q  Embarked_S\n",
              "0            1         0  22.0  ...           0           0           1\n",
              "\n",
              "[1 rows x 14 columns]"
            ]
          },
          "metadata": {
            "tags": []
          },
          "execution_count": 26
        }
      ]
    },
    {
      "cell_type": "markdown",
      "metadata": {
        "id": "HFpjLSJHVRgp"
      },
      "source": [
        "The columns: Pclass_1, Pclass_2, Pclass_3, Sex_female, Sex_male, Embarked_C, Embarked_Q and Embarked_S are our dummy variables. The original columns are dropped by itself from the dataframe. If we had created dummhy variables separately for each column and then concatenated all those variables to the datafram then we had needed to drop those parent columns."
      ]
    },
    {
      "cell_type": "markdown",
      "metadata": {
        "id": "DaeUqGDsXObz"
      },
      "source": [
        "### Separating Target and Input Features\n",
        "We feed the data to the algorithms as the input features (i.e. independent variables) and the target feature (i.e. dependent variable). So, we separate these features form the dataset. "
      ]
    },
    {
      "cell_type": "code",
      "metadata": {
        "id": "Mz6DgGyPUvRg"
      },
      "source": [
        "X = titanic_data.drop(columns=['Survived'])     # these are independent features. The change of dropping the column 'Survived' is not inplace.\n",
        "\n",
        "Y = titanic_data.Survived               # The target feature or dependent feature."
      ],
      "execution_count": 28,
      "outputs": []
    },
    {
      "cell_type": "markdown",
      "metadata": {
        "id": "trmrdc7XYY8K"
      },
      "source": [
        "### Splitting data into Train set and Test set\n",
        "The test set of the data is used to check how the built model is performing.\n",
        "Generally, people use 70% of the data for trainig the model and 30% for testing the model. Some people also use the ratio as 80% or 90% for training and 20% or 10%  for testing.\n",
        "\n",
        "The splitting is done using train_test_split class from sklearn.model selection."
      ]
    },
    {
      "cell_type": "code",
      "metadata": {
        "id": "XYXiNVTwYSzu"
      },
      "source": [
        "# import the class\n",
        "from sklearn.model_selection import train_test_split\n",
        "X_train, X_test, Y_train, Y_test = train_test_split(X, Y, test_size = 0.3, random_state = 42)\n",
        "\n",
        "# X_train: independent feature data for training the model\n",
        "# Y_train: dependent feature data for training the model\n",
        "# X_test: independent feature data for testing the model; will be used to predict the target values\n",
        "# Y_test: original target values of X_test; We will compare this values with our predicted values.\n",
        " \n",
        "# test_size = 0.30: 30% of the data will go for test set and 70% of the data will go for train set\n",
        "# random_state = 42: this will fix the split i.e. there will be same split for each time you run the code"
      ],
      "execution_count": 29,
      "outputs": []
    }
  ]
}